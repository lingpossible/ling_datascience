{
 "cells": [
  {
   "cell_type": "markdown",
   "metadata": {},
   "source": [
    "# Lesson 3 Codealong\n",
    "Instructor: Amy Roberts, PhD"
   ]
  },
  {
   "cell_type": "code",
   "execution_count": 4,
   "metadata": {
    "collapsed": true
   },
   "outputs": [],
   "source": [
    "#General imports\n",
    "from sklearn import datasets\n",
    "from sklearn import metrics\n",
    "import pandas as pd\n",
    "import numpy as np\n",
    "\n",
    "import matplotlib.pyplot as plt\n",
    "%matplotlib inline"
   ]
  },
  {
   "cell_type": "markdown",
   "metadata": {},
   "source": [
    "### Part 1. Basic Stats\n",
    "\t\n",
    "    Methods available include: \n",
    "\t\t.min() - Compute minimum value\n",
    "\t\t.max() - Compute maximum value\n",
    "\t\t.mean() - Compute mean value\n",
    "\t\t.median() - Compute median value\n",
    "        .mode() - Compute mode value(s)\n",
    "\t\t.count() - Count the number of observations"
   ]
  },
  {
   "cell_type": "markdown",
   "metadata": {},
   "source": [
    "#### Read in the examples"
   ]
  },
  {
   "cell_type": "code",
   "execution_count": 7,
   "metadata": {
    "collapsed": false
   },
   "outputs": [
    {
     "name": "stdout",
     "output_type": "stream",
     "text": [
      "             Unnamed: 0   mpg  cyl   disp   hp  drat     wt   qsec  vs  am  \\\n",
      "0             Mazda RX4  21.0    6  160.0  110  3.90  2.620  16.46   0   1   \n",
      "1         Mazda RX4 Wag  21.0    6  160.0  110  3.90  2.875  17.02   0   1   \n",
      "2            Datsun 710  22.8    4  108.0   93  3.85  2.320  18.61   1   1   \n",
      "3        Hornet 4 Drive  21.4    6  258.0  110  3.08  3.215  19.44   1   0   \n",
      "4     Hornet Sportabout  18.7    8  360.0  175  3.15  3.440  17.02   0   0   \n",
      "5               Valiant  18.1    6  225.0  105  2.76  3.460  20.22   1   0   \n",
      "6            Duster 360  14.3    8  360.0  245  3.21  3.570  15.84   0   0   \n",
      "7             Merc 240D  24.4    4  146.7   62  3.69  3.190  20.00   1   0   \n",
      "8              Merc 230  22.8    4  140.8   95  3.92  3.150  22.90   1   0   \n",
      "9              Merc 280  19.2    6  167.6  123  3.92  3.440  18.30   1   0   \n",
      "10            Merc 280C  17.8    6  167.6  123  3.92  3.440  18.90   1   0   \n",
      "11           Merc 450SE  16.4    8  275.8  180  3.07  4.070  17.40   0   0   \n",
      "12           Merc 450SL  17.3    8  275.8  180  3.07  3.730  17.60   0   0   \n",
      "13          Merc 450SLC  15.2    8  275.8  180  3.07  3.780  18.00   0   0   \n",
      "14   Cadillac Fleetwood  10.4    8  472.0  205  2.93  5.250  17.98   0   0   \n",
      "15  Lincoln Continental  10.4    8  460.0  215  3.00  5.424  17.82   0   0   \n",
      "16    Chrysler Imperial  14.7    8  440.0  230  3.23  5.345  17.42   0   0   \n",
      "17             Fiat 128  32.4    4   78.7   66  4.08  2.200  19.47   1   1   \n",
      "18          Honda Civic  30.4    4   75.7   52  4.93  1.615  18.52   1   1   \n",
      "19       Toyota Corolla  33.9    4   71.1   65  4.22  1.835  19.90   1   1   \n",
      "20        Toyota Corona  21.5    4  120.1   97  3.70  2.465  20.01   1   0   \n",
      "21     Dodge Challenger  15.5    8  318.0  150  2.76  3.520  16.87   0   0   \n",
      "22          AMC Javelin  15.2    8  304.0  150  3.15  3.435  17.30   0   0   \n",
      "23           Camaro Z28  13.3    8  350.0  245  3.73  3.840  15.41   0   0   \n",
      "24     Pontiac Firebird  19.2    8  400.0  175  3.08  3.845  17.05   0   0   \n",
      "25            Fiat X1-9  27.3    4   79.0   66  4.08  1.935  18.90   1   1   \n",
      "26        Porsche 914-2  26.0    4  120.3   91  4.43  2.140  16.70   0   1   \n",
      "27         Lotus Europa  30.4    4   95.1  113  3.77  1.513  16.90   1   1   \n",
      "28       Ford Pantera L  15.8    8  351.0  264  4.22  3.170  14.50   0   1   \n",
      "29         Ferrari Dino  19.7    6  145.0  175  3.62  2.770  15.50   0   1   \n",
      "30        Maserati Bora  15.0    8  301.0  335  3.54  3.570  14.60   0   1   \n",
      "31           Volvo 142E  21.4    4  121.0  109  4.11  2.780  18.60   1   1   \n",
      "\n",
      "    gear  carb  \n",
      "0      4     4  \n",
      "1      4     4  \n",
      "2      4     1  \n",
      "3      3     1  \n",
      "4      3     2  \n",
      "5      3     1  \n",
      "6      3     4  \n",
      "7      4     2  \n",
      "8      4     2  \n",
      "9      4     4  \n",
      "10     4     4  \n",
      "11     3     3  \n",
      "12     3     3  \n",
      "13     3     3  \n",
      "14     3     4  \n",
      "15     3     4  \n",
      "16     3     4  \n",
      "17     4     1  \n",
      "18     4     2  \n",
      "19     4     1  \n",
      "20     3     1  \n",
      "21     3     2  \n",
      "22     3     2  \n",
      "23     3     4  \n",
      "24     3     2  \n",
      "25     4     1  \n",
      "26     5     2  \n",
      "27     5     2  \n",
      "28     5     4  \n",
      "29     5     6  \n",
      "30     5     8  \n",
      "31     4     2  \n"
     ]
    }
   ],
   "source": [
    "data = pd.read_csv('../mtcars.csv')\n",
    "#df = pd.read_csv('../data/example.csv')\n",
    "print data"
   ]
  },
  {
   "cell_type": "markdown",
   "metadata": {},
   "source": [
    "#### Instructor example: Calculate the mean for each coloumn"
   ]
  },
  {
   "cell_type": "code",
   "execution_count": 11,
   "metadata": {
    "collapsed": false
   },
   "outputs": [
    {
     "data": {
      "text/plain": [
       "['Unnamed: 0',\n",
       " 'mpg',\n",
       " 'cyl',\n",
       " 'disp',\n",
       " 'hp',\n",
       " 'drat',\n",
       " 'wt',\n",
       " 'qsec',\n",
       " 'vs',\n",
       " 'am',\n",
       " 'gear',\n",
       " 'carb']"
      ]
     },
     "execution_count": 11,
     "metadata": {},
     "output_type": "execute_result"
    }
   ],
   "source": [
    "list(data)"
   ]
  },
  {
   "cell_type": "code",
   "execution_count": 8,
   "metadata": {
    "collapsed": false
   },
   "outputs": [
    {
     "data": {
      "text/plain": [
       "mpg      20.090625\n",
       "cyl       6.187500\n",
       "disp    230.721875\n",
       "hp      146.687500\n",
       "drat      3.596563\n",
       "wt        3.217250\n",
       "qsec     17.848750\n",
       "vs        0.437500\n",
       "am        0.406250\n",
       "gear      3.687500\n",
       "carb      2.812500\n",
       "dtype: float64"
      ]
     },
     "execution_count": 8,
     "metadata": {},
     "output_type": "execute_result"
    }
   ],
   "source": [
    "data.mean()"
   ]
  },
  {
   "cell_type": "markdown",
   "metadata": {},
   "source": [
    "#### Students: Calculate median, mode, max, min for example\n",
    "\n",
    "Note: All answers should match your hand calculations"
   ]
  },
  {
   "cell_type": "code",
   "execution_count": 9,
   "metadata": {
    "collapsed": false
   },
   "outputs": [
    {
     "data": {
      "text/plain": [
       "Unnamed: 0    Volvo 142E\n",
       "mpg                 33.9\n",
       "cyl                    8\n",
       "disp                 472\n",
       "hp                   335\n",
       "drat                4.93\n",
       "wt                 5.424\n",
       "qsec                22.9\n",
       "vs                     1\n",
       "am                     1\n",
       "gear                   5\n",
       "carb                   8\n",
       "dtype: object"
      ]
     },
     "execution_count": 9,
     "metadata": {},
     "output_type": "execute_result"
    }
   ],
   "source": [
    "#maximum\n",
    "data.max()"
   ]
  },
  {
   "cell_type": "code",
   "execution_count": 12,
   "metadata": {
    "collapsed": false
   },
   "outputs": [
    {
     "data": {
      "text/plain": [
       "Unnamed: 0    AMC Javelin\n",
       "mpg                  10.4\n",
       "cyl                     4\n",
       "disp                 71.1\n",
       "hp                     52\n",
       "drat                 2.76\n",
       "wt                  1.513\n",
       "qsec                 14.5\n",
       "vs                      0\n",
       "am                      0\n",
       "gear                    3\n",
       "carb                    1\n",
       "dtype: object"
      ]
     },
     "execution_count": 12,
     "metadata": {},
     "output_type": "execute_result"
    }
   ],
   "source": [
    "#minimum\n",
    "data.min()"
   ]
  },
  {
   "cell_type": "code",
   "execution_count": 22,
   "metadata": {
    "collapsed": false
   },
   "outputs": [
    {
     "data": {
      "text/plain": [
       "example1    19.5\n",
       "example2    79.5\n",
       "example3    51.0\n",
       "dtype: float64"
      ]
     },
     "execution_count": 22,
     "metadata": {},
     "output_type": "execute_result"
    }
   ],
   "source": [
    "#median\n",
    "df.median()"
   ]
  },
  {
   "cell_type": "code",
   "execution_count": 13,
   "metadata": {
    "collapsed": false
   },
   "outputs": [
    {
     "data": {
      "text/html": [
       "<div>\n",
       "<table border=\"1\" class=\"dataframe\">\n",
       "  <thead>\n",
       "    <tr style=\"text-align: right;\">\n",
       "      <th></th>\n",
       "      <th>Unnamed: 0</th>\n",
       "      <th>mpg</th>\n",
       "      <th>cyl</th>\n",
       "      <th>disp</th>\n",
       "      <th>hp</th>\n",
       "      <th>drat</th>\n",
       "      <th>wt</th>\n",
       "      <th>qsec</th>\n",
       "      <th>vs</th>\n",
       "      <th>am</th>\n",
       "      <th>gear</th>\n",
       "      <th>carb</th>\n",
       "    </tr>\n",
       "  </thead>\n",
       "  <tbody>\n",
       "    <tr>\n",
       "      <th>0</th>\n",
       "      <td>NaN</td>\n",
       "      <td>10.4</td>\n",
       "      <td>8.0</td>\n",
       "      <td>275.8</td>\n",
       "      <td>110.0</td>\n",
       "      <td>3.07</td>\n",
       "      <td>3.44</td>\n",
       "      <td>17.02</td>\n",
       "      <td>0.0</td>\n",
       "      <td>0.0</td>\n",
       "      <td>3.0</td>\n",
       "      <td>2.0</td>\n",
       "    </tr>\n",
       "    <tr>\n",
       "      <th>1</th>\n",
       "      <td>NaN</td>\n",
       "      <td>15.2</td>\n",
       "      <td>NaN</td>\n",
       "      <td>NaN</td>\n",
       "      <td>175.0</td>\n",
       "      <td>3.92</td>\n",
       "      <td>NaN</td>\n",
       "      <td>18.90</td>\n",
       "      <td>NaN</td>\n",
       "      <td>NaN</td>\n",
       "      <td>NaN</td>\n",
       "      <td>4.0</td>\n",
       "    </tr>\n",
       "    <tr>\n",
       "      <th>2</th>\n",
       "      <td>NaN</td>\n",
       "      <td>19.2</td>\n",
       "      <td>NaN</td>\n",
       "      <td>NaN</td>\n",
       "      <td>180.0</td>\n",
       "      <td>NaN</td>\n",
       "      <td>NaN</td>\n",
       "      <td>NaN</td>\n",
       "      <td>NaN</td>\n",
       "      <td>NaN</td>\n",
       "      <td>NaN</td>\n",
       "      <td>NaN</td>\n",
       "    </tr>\n",
       "    <tr>\n",
       "      <th>3</th>\n",
       "      <td>NaN</td>\n",
       "      <td>21.0</td>\n",
       "      <td>NaN</td>\n",
       "      <td>NaN</td>\n",
       "      <td>NaN</td>\n",
       "      <td>NaN</td>\n",
       "      <td>NaN</td>\n",
       "      <td>NaN</td>\n",
       "      <td>NaN</td>\n",
       "      <td>NaN</td>\n",
       "      <td>NaN</td>\n",
       "      <td>NaN</td>\n",
       "    </tr>\n",
       "    <tr>\n",
       "      <th>4</th>\n",
       "      <td>NaN</td>\n",
       "      <td>21.4</td>\n",
       "      <td>NaN</td>\n",
       "      <td>NaN</td>\n",
       "      <td>NaN</td>\n",
       "      <td>NaN</td>\n",
       "      <td>NaN</td>\n",
       "      <td>NaN</td>\n",
       "      <td>NaN</td>\n",
       "      <td>NaN</td>\n",
       "      <td>NaN</td>\n",
       "      <td>NaN</td>\n",
       "    </tr>\n",
       "    <tr>\n",
       "      <th>5</th>\n",
       "      <td>NaN</td>\n",
       "      <td>22.8</td>\n",
       "      <td>NaN</td>\n",
       "      <td>NaN</td>\n",
       "      <td>NaN</td>\n",
       "      <td>NaN</td>\n",
       "      <td>NaN</td>\n",
       "      <td>NaN</td>\n",
       "      <td>NaN</td>\n",
       "      <td>NaN</td>\n",
       "      <td>NaN</td>\n",
       "      <td>NaN</td>\n",
       "    </tr>\n",
       "    <tr>\n",
       "      <th>6</th>\n",
       "      <td>NaN</td>\n",
       "      <td>30.4</td>\n",
       "      <td>NaN</td>\n",
       "      <td>NaN</td>\n",
       "      <td>NaN</td>\n",
       "      <td>NaN</td>\n",
       "      <td>NaN</td>\n",
       "      <td>NaN</td>\n",
       "      <td>NaN</td>\n",
       "      <td>NaN</td>\n",
       "      <td>NaN</td>\n",
       "      <td>NaN</td>\n",
       "    </tr>\n",
       "  </tbody>\n",
       "</table>\n",
       "</div>"
      ],
      "text/plain": [
       "   Unnamed: 0   mpg  cyl   disp     hp  drat    wt   qsec   vs   am  gear  \\\n",
       "0         NaN  10.4  8.0  275.8  110.0  3.07  3.44  17.02  0.0  0.0   3.0   \n",
       "1         NaN  15.2  NaN    NaN  175.0  3.92   NaN  18.90  NaN  NaN   NaN   \n",
       "2         NaN  19.2  NaN    NaN  180.0   NaN   NaN    NaN  NaN  NaN   NaN   \n",
       "3         NaN  21.0  NaN    NaN    NaN   NaN   NaN    NaN  NaN  NaN   NaN   \n",
       "4         NaN  21.4  NaN    NaN    NaN   NaN   NaN    NaN  NaN  NaN   NaN   \n",
       "5         NaN  22.8  NaN    NaN    NaN   NaN   NaN    NaN  NaN  NaN   NaN   \n",
       "6         NaN  30.4  NaN    NaN    NaN   NaN   NaN    NaN  NaN  NaN   NaN   \n",
       "\n",
       "   carb  \n",
       "0   2.0  \n",
       "1   4.0  \n",
       "2   NaN  \n",
       "3   NaN  \n",
       "4   NaN  \n",
       "5   NaN  \n",
       "6   NaN  "
      ]
     },
     "execution_count": 13,
     "metadata": {},
     "output_type": "execute_result"
    }
   ],
   "source": [
    "#mode\n",
    "data.mode()"
   ]
  },
  {
   "cell_type": "markdown",
   "metadata": {},
   "source": [
    "### Part 2. Box Plot"
   ]
  },
  {
   "cell_type": "markdown",
   "metadata": {},
   "source": [
    "#### Instructor: Interquartile range "
   ]
  },
  {
   "cell_type": "code",
   "execution_count": 14,
   "metadata": {
    "collapsed": false
   },
   "outputs": [
    {
     "name": "stdout",
     "output_type": "stream",
     "text": [
      "50% Quartile:\n",
      "mpg      19.200\n",
      "cyl       6.000\n",
      "disp    196.300\n",
      "hp      123.000\n",
      "drat      3.695\n",
      "wt        3.325\n",
      "qsec     17.710\n",
      "vs        0.000\n",
      "am        0.000\n",
      "gear      4.000\n",
      "carb      2.000\n",
      "Name: 0.5, dtype: float64\n",
      "Median (red line of the box)\n",
      "mpg      19.200\n",
      "cyl       6.000\n",
      "disp    196.300\n",
      "hp      123.000\n",
      "drat      3.695\n",
      "wt        3.325\n",
      "qsec     17.710\n",
      "vs        0.000\n",
      "am        0.000\n",
      "gear      4.000\n",
      "carb      2.000\n",
      "dtype: float64\n"
     ]
    }
   ],
   "source": [
    "print \"50% Quartile:\"\n",
    "print data.quantile(.50) \n",
    "print \"Median (red line of the box)\"\n",
    "print data.median()"
   ]
  },
  {
   "cell_type": "code",
   "execution_count": 15,
   "metadata": {
    "collapsed": false
   },
   "outputs": [
    {
     "name": "stdout",
     "output_type": "stream",
     "text": [
      "25% (bottome of the box)\n",
      "mpg      15.42500\n",
      "cyl       4.00000\n",
      "disp    120.82500\n",
      "hp       96.50000\n",
      "drat      3.08000\n",
      "wt        2.58125\n",
      "qsec     16.89250\n",
      "vs        0.00000\n",
      "am        0.00000\n",
      "gear      3.00000\n",
      "carb      2.00000\n",
      "Name: 0.25, dtype: float64\n",
      "75% (top of the box)\n",
      "mpg      22.80\n",
      "cyl       8.00\n",
      "disp    326.00\n",
      "hp      180.00\n",
      "drat      3.92\n",
      "wt        3.61\n",
      "qsec     18.90\n",
      "vs        1.00\n",
      "am        1.00\n",
      "gear      4.00\n",
      "carb      4.00\n",
      "Name: 0.75, dtype: float64\n"
     ]
    }
   ],
   "source": [
    "print\"25% (bottome of the box)\"\n",
    "print data.quantile(0.25)\n",
    "print\"75% (top of the box)\"\n",
    "print data.quantile(0.75)"
   ]
  },
  {
   "cell_type": "code",
   "execution_count": 17,
   "metadata": {
    "collapsed": false
   },
   "outputs": [
    {
     "data": {
      "text/plain": [
       "<matplotlib.axes._subplots.AxesSubplot at 0x11189b190>"
      ]
     },
     "execution_count": 17,
     "metadata": {},
     "output_type": "execute_result"
    },
    {
     "data": {
      "image/png": "[encoded data removed]",
      "text/plain": [
       "<matplotlib.figure.Figure at 0x11182c590>"
      ]
     },
     "metadata": {},
     "output_type": "display_data"
    }
   ],
   "source": [
    "data['mpg'].plot(kind='box')"
   ]
  },
  {
   "cell_type": "markdown",
   "metadata": {},
   "source": [
    "#### Student: Create plots for examples 2 and 3 and check the quartiles"
   ]
  },
  {
   "cell_type": "code",
   "execution_count": 20,
   "metadata": {
    "collapsed": false
   },
   "outputs": [
    {
     "data": {
      "text/plain": [
       "<matplotlib.axes._subplots.AxesSubplot at 0x111927d90>"
      ]
     },
     "execution_count": 20,
     "metadata": {},
     "output_type": "execute_result"
    },
    {
     "data": {
      "image/png": "[encoded data removed]",
      "text/plain": [
       "<matplotlib.figure.Figure at 0x114012c10>"
      ]
     },
     "metadata": {},
     "output_type": "display_data"
    }
   ],
   "source": [
    "data['disp'].plot(kind='box')\n"
   ]
  },
  {
   "cell_type": "markdown",
   "metadata": {},
   "source": [
    "#### What does the cross in example 2 represent?"
   ]
  },
  {
   "cell_type": "markdown",
   "metadata": {},
   "source": [
    "Answer: "
   ]
  },
  {
   "cell_type": "code",
   "execution_count": 22,
   "metadata": {
    "collapsed": false
   },
   "outputs": [
    {
     "data": {
      "text/plain": [
       "36.32410282258065"
      ]
     },
     "execution_count": 22,
     "metadata": {},
     "output_type": "execute_result"
    }
   ],
   "source": [
    "# Find variances\n",
    "data['mpg'].var()"
   ]
  },
  {
   "cell_type": "code",
   "execution_count": 23,
   "metadata": {
    "collapsed": false
   },
   "outputs": [
    {
     "data": {
      "text/plain": [
       "6.026948052089105"
      ]
     },
     "execution_count": 23,
     "metadata": {},
     "output_type": "execute_result"
    }
   ],
   "source": [
    "# Find variances\n",
    "data['mpg'].std()"
   ]
  },
  {
   "cell_type": "code",
   "execution_count": null,
   "metadata": {
    "collapsed": false
   },
   "outputs": [],
   "source": [
    "#calculate standard deviation by hand\n"
   ]
  },
  {
   "cell_type": "code",
   "execution_count": null,
   "metadata": {
    "collapsed": false
   },
   "outputs": [],
   "source": [
    "#now do it with pandas!\n"
   ]
  },
  {
   "cell_type": "markdown",
   "metadata": {},
   "source": [
    "#### Short Cut!"
   ]
  },
  {
   "cell_type": "code",
   "execution_count": null,
   "metadata": {
    "collapsed": false
   },
   "outputs": [],
   "source": [
    "df.describe()"
   ]
  },
  {
   "cell_type": "markdown",
   "metadata": {},
   "source": [
    "#### Student: Check understanding \n",
    "Which value in the above table is the median? "
   ]
  },
  {
   "cell_type": "markdown",
   "metadata": {},
   "source": [
    "Answer: "
   ]
  },
  {
   "cell_type": "markdown",
   "metadata": {},
   "source": [
    "### Part 4: Correlation"
   ]
  },
  {
   "cell_type": "code",
   "execution_count": null,
   "metadata": {
    "collapsed": false
   },
   "outputs": [],
   "source": [
    "df.corr()"
   ]
  }
 ],
 "metadata": {
  "kernelspec": {
   "display_name": "Python 2",
   "language": "python",
   "name": "python2"
  },
  "language_info": {
   "codemirror_mode": {
    "name": "ipython",
    "version": 2
   },
   "file_extension": ".py",
   "mimetype": "text/x-python",
   "name": "python",
   "nbconvert_exporter": "python",
   "pygments_lexer": "ipython2",
   "version": "2.7.13"
  }
 },
 "nbformat": 4,
 "nbformat_minor": 0
}
