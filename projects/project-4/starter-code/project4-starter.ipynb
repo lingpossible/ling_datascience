{
 "cells": [
  {
   "cell_type": "markdown",
   "metadata": {},
   "source": [
    "# Project 4\n",
    "\n",
    "In this project, you will summarize and present your analysis from Projects 1-3."
   ]
  },
  {
   "cell_type": "markdown",
   "metadata": {},
   "source": [
    "### Intro: Write a problem Statement/ Specific Aim for this project"
   ]
  },
  {
   "cell_type": "markdown",
   "metadata": {},
   "source": [
    "Answer: Understand how variables, such as GRE (Graduate Record Exam scores), GPA (grade point average) and prestige of the undergraduate institution, effect admission into graduate school."
   ]
  },
  {
   "cell_type": "markdown",
   "metadata": {},
   "source": [
    "### Dataset:  Write up a description of your data and any cleaning that was completed"
   ]
  },
  {
   "cell_type": "markdown",
   "metadata": {},
   "source": [
    "Answer: \n",
    "There were originally 400 applicants in our dataset.\n",
    "\n",
    "1. Dropped any row that consist of null value.\n",
    "2. As \"prestige\" is a categorical column, we dummified the \"prestige\" column using get_dummies.\n",
    "3. Merged the new dummy columns into the original dataset and get rid of the prestige column which we no longer need.\n",
    "4. To avoid multicollinearity, we exclude \"prestige_1\", where we predicted the admit column using gre, gpa, and the prestige dummy variables prestige_2, prestige_3 and prestige_4."
   ]
  },
  {
   "cell_type": "markdown",
   "metadata": {
    "collapsed": true
   },
   "source": [
    "### Demo: Provide a table that explains the data by admission status"
   ]
  },
  {
   "cell_type": "markdown",
   "metadata": {},
   "source": [
    "Mean (STD) or counts by admission status for each variable \n",
    "\n",
    "| Not Admitted | Admitted\n",
    "---| ---|---\n",
    "GPA | 3.2  | 3.8\n",
    "GRE | 500 | 700\n",
    "Prestige 1 | 50 | 100\n",
    "Prestige 2 | 100 | 50\n",
    "Prestige 3 | 125 | 25\n",
    "Prestige 4 | 200 | 10"
   ]
  },
  {
   "cell_type": "markdown",
   "metadata": {},
   "source": [
    "### Methods: Write up the methods used in your analysis"
   ]
  },
  {
   "cell_type": "markdown",
   "metadata": {},
   "source": [
    "Answer:\n",
    "1. Built a logistic regression using Statsmodels and calculated the probability of being admitted to graduate school given the prestige of the undergraduate school controlling for GRE and GPA. \n",
    "2. Calculated the predicted probability of each student being admitted to school."
   ]
  },
  {
   "cell_type": "markdown",
   "metadata": {},
   "source": [
    "### Results: Write up your results"
   ]
  },
  {
   "cell_type": "markdown",
   "metadata": {},
   "source": [
    "Answer: \n",
    "\n",
    "      2.5%     97.5%        OR\n",
    "gre           1.000074  1.004372  1.002221\n",
    "\n",
    "gpa           1.136120  4.183113  2.180027\n",
    "\n",
    "prestige_2.0  0.272168  0.942767  0.506548\n",
    "\n",
    "prestige_3.0  0.133377  0.515419  0.262192\n",
    "\n",
    "prestige_4.0  0.093329  0.479411  0.211525\n",
    "\n",
    "intercept     0.002207  0.194440  0.020716\n",
    "\n",
    "Students who attended a tier 2 undergraduate school had 0.50 (CI 0.27, 0.94) the odds of being admitted to graduate school compared to students who attend a tier 1 undergraduate school. This decreased further with tier 3, OR=0.26(CI 0.13, 0.52), and tier 4, OR=0.21 (CI 0.09, 0.48), compared to tier 1 schools."
   ]
  },
  {
   "cell_type": "markdown",
   "metadata": {},
   "source": [
    "# Visuals: Provide a table or visualization of these results"
   ]
  },
  {
   "cell_type": "markdown",
   "metadata": {},
   "source": [
    "<img src='assets/images/chart_1.png' height= 50% width= 50%>"
   ]
  },
  {
   "cell_type": "markdown",
   "metadata": {},
   "source": [
    "<img src='assets/images/chart_2.png' height= 50% width= 50%>"
   ]
  },
  {
   "cell_type": "markdown",
   "metadata": {},
   "source": [
    "### Discussion: Write up your discussion and future steps"
   ]
  },
  {
   "cell_type": "markdown",
   "metadata": {},
   "source": [
    "Answer: \n",
    "The data indicates that students have a higher probability of being admitted into grad school if they attended a prestigous undergraduate college. The difference between undergraduate admissions rates from Tier 1 and Tier 4 colleges was 80%. Some next steps could include exploring differences by field of study, student IQ, or school attendance.\n"
   ]
  }
 ],
 "metadata": {
  "kernelspec": {
   "display_name": "Python 2",
   "language": "python",
   "name": "python2"
  },
  "language_info": {
   "codemirror_mode": {
    "name": "ipython",
    "version": 2
   },
   "file_extension": ".py",
   "mimetype": "text/x-python",
   "name": "python",
   "nbconvert_exporter": "python",
   "pygments_lexer": "ipython2",
   "version": "2.7.13"
  }
 },
 "nbformat": 4,
 "nbformat_minor": 0
}
