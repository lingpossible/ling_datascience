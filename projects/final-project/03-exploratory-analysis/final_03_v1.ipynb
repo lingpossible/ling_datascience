{
 "cells": [
  {
   "cell_type": "markdown",
   "metadata": {},
   "source": [
    "## Exploring Rossmann Drug Store Sales Data"
   ]
  },
  {
   "cell_type": "code",
   "execution_count": 206,
   "metadata": {
    "collapsed": false
   },
   "outputs": [],
   "source": [
    "import pandas as pd\n",
    "import seaborn as sns\n",
    "import matplotlib.pyplot as plt\n",
    "%matplotlib inline\n",
    "\n",
    "data = pd.read_csv('channel_cost_clean.csv', skipinitialspace=True,\n",
    "                   low_memory=False)"
   ]
  },
  {
   "cell_type": "markdown",
   "metadata": {},
   "source": [
    "Because we are most interested in the `Date` column that contains the date of sales for each store, we will make sure to process that as a `DateTime` type, and make that the index of our dataframe."
   ]
  },
  {
   "cell_type": "code",
   "execution_count": 207,
   "metadata": {
    "collapsed": false
   },
   "outputs": [],
   "source": [
    "data['Date'] = pd.to_datetime(data['Date'])\n",
    "data.set_index('Date', inplace=True)\n",
    "\n",
    "data['Year'] = data.index.year\n",
    "data['Month'] = data.index.month\n",
    "data['Week'] = data.index.week"
   ]
  },
  {
   "cell_type": "code",
   "execution_count": 208,
   "metadata": {
    "collapsed": false
   },
   "outputs": [
    {
     "name": "stdout",
     "output_type": "stream",
     "text": [
      "            FTAdWords  FTBing  FTEmail  FTEvent  FTFacebook  FTInfluencer  \\\n",
      "Date                                                                        \n",
      "2016-04-24        NaN     NaN       71      NaN         271             3   \n",
      "2016-05-01        NaN     NaN        7      NaN         912             3   \n",
      "2016-05-08        NaN     NaN       21      0.0        1621            19   \n",
      "2016-05-15        NaN     NaN        9      0.0        3398            17   \n",
      "2016-05-22        NaN     NaN       26      0.0        2306            54   \n",
      "\n",
      "            FTInstagram  FTOrganic  FTPartner  FTSnapchat  ...   \\\n",
      "Date                                                       ...    \n",
      "2016-04-24           59      11121        NaN         NaN  ...    \n",
      "2016-05-01          291       3311        NaN       157.0  ...    \n",
      "2016-05-08         1097       3434        NaN       146.0  ...    \n",
      "2016-05-15         1536       3678        NaN       148.0  ...    \n",
      "2016-05-22          790       2091        NaN       120.0  ...    \n",
      "\n",
      "            InfluencerSpend  InstagramSpend  OrganicSpend  PartnerSpend  \\\n",
      "Date                                                                      \n",
      "2016-04-24              NaN         19864.0           NaN           NaN   \n",
      "2016-05-01              NaN         32824.0           NaN           NaN   \n",
      "2016-05-08              NaN         58871.0           NaN           NaN   \n",
      "2016-05-15              NaN         58594.0           NaN           NaN   \n",
      "2016-05-22              NaN         58593.0           NaN           NaN   \n",
      "\n",
      "            SnapchatSpend  TwitterSpend  YouTubeSpend  Year  Month  Week  \n",
      "Date                                                                      \n",
      "2016-04-24            0.0        5167.0           NaN  2016      4    16  \n",
      "2016-05-01        15820.0       11062.0           NaN  2016      5    17  \n",
      "2016-05-08         8223.0        1413.0           NaN  2016      5    18  \n",
      "2016-05-15         7241.0           NaN           NaN  2016      5    19  \n",
      "2016-05-22         5991.0           NaN         925.0  2016      5    20  \n",
      "\n",
      "[5 rows x 39 columns]\n"
     ]
    }
   ],
   "source": [
    "print data.head()"
   ]
  },
  {
   "cell_type": "code",
   "execution_count": 209,
   "metadata": {
    "collapsed": false
   },
   "outputs": [
    {
     "data": {
      "text/plain": [
       "FTAdWords          55\n",
       "FTBing             43\n",
       "FTEmail            61\n",
       "FTEvent            59\n",
       "FTFacebook         61\n",
       "FTInfluencer       61\n",
       "FTInstagram        61\n",
       "FTOrganic          61\n",
       "FTPartner          32\n",
       "FTSnapchat         60\n",
       "FTTwitter          29\n",
       "FTYouTube          46\n",
       "PSAdWords          56\n",
       "PSBing             19\n",
       "PSEmail            60\n",
       "PSEvent            25\n",
       "PSFacebook         61\n",
       "PSInfluencer       61\n",
       "PSInstagram        61\n",
       "PSOrganic          61\n",
       "PSPartner           6\n",
       "PSSnapchat         59\n",
       "PSTwitter           4\n",
       "PSYouTube          20\n",
       "AdWordsSpend       36\n",
       "BingSpend          13\n",
       "EmailSpend          0\n",
       "EventSpend          0\n",
       "FacebookSpend      46\n",
       "InfluencerSpend     0\n",
       "InstagramSpend     46\n",
       "OrganicSpend        0\n",
       "PartnerSpend        0\n",
       "SnapchatSpend      46\n",
       "TwitterSpend        3\n",
       "YouTubeSpend       40\n",
       "Year               61\n",
       "Month              61\n",
       "Week               61\n",
       "dtype: int64"
      ]
     },
     "execution_count": 209,
     "metadata": {},
     "output_type": "execute_result"
    }
   ],
   "source": [
    "data.count()"
   ]
  },
  {
   "cell_type": "code",
   "execution_count": 210,
   "metadata": {
    "collapsed": false
   },
   "outputs": [
    {
     "data": {
      "text/html": [
       "<div>\n",
       "<table border=\"1\" class=\"dataframe\">\n",
       "  <thead>\n",
       "    <tr style=\"text-align: right;\">\n",
       "      <th></th>\n",
       "      <th>FTAdWords</th>\n",
       "      <th>FTBing</th>\n",
       "      <th>FTEmail</th>\n",
       "      <th>FTEvent</th>\n",
       "      <th>FTFacebook</th>\n",
       "      <th>FTInfluencer</th>\n",
       "      <th>FTInstagram</th>\n",
       "      <th>FTOrganic</th>\n",
       "      <th>FTPartner</th>\n",
       "      <th>FTSnapchat</th>\n",
       "      <th>...</th>\n",
       "      <th>InfluencerSpend</th>\n",
       "      <th>InstagramSpend</th>\n",
       "      <th>OrganicSpend</th>\n",
       "      <th>PartnerSpend</th>\n",
       "      <th>SnapchatSpend</th>\n",
       "      <th>TwitterSpend</th>\n",
       "      <th>YouTubeSpend</th>\n",
       "      <th>Year</th>\n",
       "      <th>Month</th>\n",
       "      <th>Week</th>\n",
       "    </tr>\n",
       "  </thead>\n",
       "  <tbody>\n",
       "    <tr>\n",
       "      <th>count</th>\n",
       "      <td>55.000000</td>\n",
       "      <td>43.000000</td>\n",
       "      <td>61.000000</td>\n",
       "      <td>59.000000</td>\n",
       "      <td>61.000000</td>\n",
       "      <td>61.000000</td>\n",
       "      <td>61.000000</td>\n",
       "      <td>61.000000</td>\n",
       "      <td>32.000000</td>\n",
       "      <td>60.000000</td>\n",
       "      <td>...</td>\n",
       "      <td>0.0</td>\n",
       "      <td>46.000000</td>\n",
       "      <td>0.0</td>\n",
       "      <td>0.0</td>\n",
       "      <td>46.000000</td>\n",
       "      <td>3.000000</td>\n",
       "      <td>40.000000</td>\n",
       "      <td>61.000000</td>\n",
       "      <td>61.000000</td>\n",
       "      <td>61.000000</td>\n",
       "    </tr>\n",
       "    <tr>\n",
       "      <th>mean</th>\n",
       "      <td>373.181818</td>\n",
       "      <td>6.372093</td>\n",
       "      <td>10.459016</td>\n",
       "      <td>1.372881</td>\n",
       "      <td>1276.754098</td>\n",
       "      <td>536.032787</td>\n",
       "      <td>934.065574</td>\n",
       "      <td>4149.327869</td>\n",
       "      <td>1.906250</td>\n",
       "      <td>826.350000</td>\n",
       "      <td>...</td>\n",
       "      <td>NaN</td>\n",
       "      <td>54217.086957</td>\n",
       "      <td>NaN</td>\n",
       "      <td>NaN</td>\n",
       "      <td>55435.195652</td>\n",
       "      <td>5880.666667</td>\n",
       "      <td>7296.725000</td>\n",
       "      <td>2016.409836</td>\n",
       "      <td>6.245902</td>\n",
       "      <td>25.540984</td>\n",
       "    </tr>\n",
       "    <tr>\n",
       "      <th>std</th>\n",
       "      <td>305.114192</td>\n",
       "      <td>9.198921</td>\n",
       "      <td>11.420119</td>\n",
       "      <td>2.007729</td>\n",
       "      <td>1109.724420</td>\n",
       "      <td>511.784198</td>\n",
       "      <td>1720.611847</td>\n",
       "      <td>1722.882630</td>\n",
       "      <td>8.818453</td>\n",
       "      <td>1235.112783</td>\n",
       "      <td>...</td>\n",
       "      <td>NaN</td>\n",
       "      <td>41222.643734</td>\n",
       "      <td>NaN</td>\n",
       "      <td>NaN</td>\n",
       "      <td>55411.524824</td>\n",
       "      <td>4863.927460</td>\n",
       "      <td>5123.509409</td>\n",
       "      <td>0.495885</td>\n",
       "      <td>3.254001</td>\n",
       "      <td>14.199265</td>\n",
       "    </tr>\n",
       "    <tr>\n",
       "      <th>min</th>\n",
       "      <td>7.000000</td>\n",
       "      <td>0.000000</td>\n",
       "      <td>1.000000</td>\n",
       "      <td>0.000000</td>\n",
       "      <td>74.000000</td>\n",
       "      <td>3.000000</td>\n",
       "      <td>3.000000</td>\n",
       "      <td>1595.000000</td>\n",
       "      <td>0.000000</td>\n",
       "      <td>1.000000</td>\n",
       "      <td>...</td>\n",
       "      <td>NaN</td>\n",
       "      <td>395.000000</td>\n",
       "      <td>NaN</td>\n",
       "      <td>NaN</td>\n",
       "      <td>0.000000</td>\n",
       "      <td>1413.000000</td>\n",
       "      <td>727.000000</td>\n",
       "      <td>2016.000000</td>\n",
       "      <td>1.000000</td>\n",
       "      <td>1.000000</td>\n",
       "    </tr>\n",
       "    <tr>\n",
       "      <th>25%</th>\n",
       "      <td>99.000000</td>\n",
       "      <td>0.000000</td>\n",
       "      <td>3.000000</td>\n",
       "      <td>0.000000</td>\n",
       "      <td>232.000000</td>\n",
       "      <td>179.000000</td>\n",
       "      <td>36.000000</td>\n",
       "      <td>3266.000000</td>\n",
       "      <td>0.000000</td>\n",
       "      <td>16.500000</td>\n",
       "      <td>...</td>\n",
       "      <td>NaN</td>\n",
       "      <td>21830.500000</td>\n",
       "      <td>NaN</td>\n",
       "      <td>NaN</td>\n",
       "      <td>0.000000</td>\n",
       "      <td>3290.000000</td>\n",
       "      <td>3366.000000</td>\n",
       "      <td>2016.000000</td>\n",
       "      <td>4.000000</td>\n",
       "      <td>16.000000</td>\n",
       "    </tr>\n",
       "    <tr>\n",
       "      <th>50%</th>\n",
       "      <td>367.000000</td>\n",
       "      <td>0.000000</td>\n",
       "      <td>7.000000</td>\n",
       "      <td>1.000000</td>\n",
       "      <td>1231.000000</td>\n",
       "      <td>326.000000</td>\n",
       "      <td>490.000000</td>\n",
       "      <td>3678.000000</td>\n",
       "      <td>0.000000</td>\n",
       "      <td>152.500000</td>\n",
       "      <td>...</td>\n",
       "      <td>NaN</td>\n",
       "      <td>55334.500000</td>\n",
       "      <td>NaN</td>\n",
       "      <td>NaN</td>\n",
       "      <td>44811.500000</td>\n",
       "      <td>5167.000000</td>\n",
       "      <td>7006.500000</td>\n",
       "      <td>2016.000000</td>\n",
       "      <td>6.000000</td>\n",
       "      <td>23.000000</td>\n",
       "    </tr>\n",
       "    <tr>\n",
       "      <th>75%</th>\n",
       "      <td>538.500000</td>\n",
       "      <td>12.500000</td>\n",
       "      <td>12.000000</td>\n",
       "      <td>2.000000</td>\n",
       "      <td>1958.000000</td>\n",
       "      <td>820.000000</td>\n",
       "      <td>1043.000000</td>\n",
       "      <td>4808.000000</td>\n",
       "      <td>0.000000</td>\n",
       "      <td>1250.750000</td>\n",
       "      <td>...</td>\n",
       "      <td>NaN</td>\n",
       "      <td>74753.000000</td>\n",
       "      <td>NaN</td>\n",
       "      <td>NaN</td>\n",
       "      <td>85163.500000</td>\n",
       "      <td>8114.500000</td>\n",
       "      <td>10616.250000</td>\n",
       "      <td>2017.000000</td>\n",
       "      <td>9.000000</td>\n",
       "      <td>37.000000</td>\n",
       "    </tr>\n",
       "    <tr>\n",
       "      <th>max</th>\n",
       "      <td>1561.000000</td>\n",
       "      <td>28.000000</td>\n",
       "      <td>71.000000</td>\n",
       "      <td>12.000000</td>\n",
       "      <td>5052.000000</td>\n",
       "      <td>2191.000000</td>\n",
       "      <td>10978.000000</td>\n",
       "      <td>11121.000000</td>\n",
       "      <td>50.000000</td>\n",
       "      <td>5155.000000</td>\n",
       "      <td>...</td>\n",
       "      <td>NaN</td>\n",
       "      <td>212378.000000</td>\n",
       "      <td>NaN</td>\n",
       "      <td>NaN</td>\n",
       "      <td>178514.000000</td>\n",
       "      <td>11062.000000</td>\n",
       "      <td>22831.000000</td>\n",
       "      <td>2017.000000</td>\n",
       "      <td>12.000000</td>\n",
       "      <td>52.000000</td>\n",
       "    </tr>\n",
       "  </tbody>\n",
       "</table>\n",
       "<p>8 rows × 39 columns</p>\n",
       "</div>"
      ],
      "text/plain": [
       "         FTAdWords     FTBing    FTEmail    FTEvent   FTFacebook  \\\n",
       "count    55.000000  43.000000  61.000000  59.000000    61.000000   \n",
       "mean    373.181818   6.372093  10.459016   1.372881  1276.754098   \n",
       "std     305.114192   9.198921  11.420119   2.007729  1109.724420   \n",
       "min       7.000000   0.000000   1.000000   0.000000    74.000000   \n",
       "25%      99.000000   0.000000   3.000000   0.000000   232.000000   \n",
       "50%     367.000000   0.000000   7.000000   1.000000  1231.000000   \n",
       "75%     538.500000  12.500000  12.000000   2.000000  1958.000000   \n",
       "max    1561.000000  28.000000  71.000000  12.000000  5052.000000   \n",
       "\n",
       "       FTInfluencer   FTInstagram     FTOrganic  FTPartner   FTSnapchat  \\\n",
       "count     61.000000     61.000000     61.000000  32.000000    60.000000   \n",
       "mean     536.032787    934.065574   4149.327869   1.906250   826.350000   \n",
       "std      511.784198   1720.611847   1722.882630   8.818453  1235.112783   \n",
       "min        3.000000      3.000000   1595.000000   0.000000     1.000000   \n",
       "25%      179.000000     36.000000   3266.000000   0.000000    16.500000   \n",
       "50%      326.000000    490.000000   3678.000000   0.000000   152.500000   \n",
       "75%      820.000000   1043.000000   4808.000000   0.000000  1250.750000   \n",
       "max     2191.000000  10978.000000  11121.000000  50.000000  5155.000000   \n",
       "\n",
       "         ...      InfluencerSpend  InstagramSpend  OrganicSpend  PartnerSpend  \\\n",
       "count    ...                  0.0       46.000000           0.0           0.0   \n",
       "mean     ...                  NaN    54217.086957           NaN           NaN   \n",
       "std      ...                  NaN    41222.643734           NaN           NaN   \n",
       "min      ...                  NaN      395.000000           NaN           NaN   \n",
       "25%      ...                  NaN    21830.500000           NaN           NaN   \n",
       "50%      ...                  NaN    55334.500000           NaN           NaN   \n",
       "75%      ...                  NaN    74753.000000           NaN           NaN   \n",
       "max      ...                  NaN   212378.000000           NaN           NaN   \n",
       "\n",
       "       SnapchatSpend  TwitterSpend  YouTubeSpend         Year      Month  \\\n",
       "count      46.000000      3.000000     40.000000    61.000000  61.000000   \n",
       "mean    55435.195652   5880.666667   7296.725000  2016.409836   6.245902   \n",
       "std     55411.524824   4863.927460   5123.509409     0.495885   3.254001   \n",
       "min         0.000000   1413.000000    727.000000  2016.000000   1.000000   \n",
       "25%         0.000000   3290.000000   3366.000000  2016.000000   4.000000   \n",
       "50%     44811.500000   5167.000000   7006.500000  2016.000000   6.000000   \n",
       "75%     85163.500000   8114.500000  10616.250000  2017.000000   9.000000   \n",
       "max    178514.000000  11062.000000  22831.000000  2017.000000  12.000000   \n",
       "\n",
       "            Week  \n",
       "count  61.000000  \n",
       "mean   25.540984  \n",
       "std    14.199265  \n",
       "min     1.000000  \n",
       "25%    16.000000  \n",
       "50%    23.000000  \n",
       "75%    37.000000  \n",
       "max    52.000000  \n",
       "\n",
       "[8 rows x 39 columns]"
      ]
     },
     "execution_count": 210,
     "metadata": {},
     "output_type": "execute_result"
    }
   ],
   "source": [
    "data.describe()"
   ]
  },
  {
   "cell_type": "markdown",
   "metadata": {},
   "source": [
    "## Channel: AdWords"
   ]
  },
  {
   "cell_type": "code",
   "execution_count": 241,
   "metadata": {
    "collapsed": false
   },
   "outputs": [
    {
     "name": "stdout",
     "output_type": "stream",
     "text": [
      "         FTAdWords   PSAdWords  AdWordsSpend       Week\n",
      "count    33.000000   33.000000     33.000000  33.000000\n",
      "mean    482.545455  255.545455  15114.333333  30.727273\n",
      "std     304.377961  148.598261  12164.095424   8.743829\n",
      "min      86.000000   50.000000   1563.000000  17.000000\n",
      "25%     307.000000  174.000000   3483.000000  23.000000\n",
      "50%     479.000000  223.000000  10586.000000  30.000000\n",
      "75%     562.000000  315.000000  26153.000000  38.000000\n",
      "max    1561.000000  735.000000  40701.000000  46.000000\n"
     ]
    },
    {
     "data": {
      "image/png": "[encoded data removed]",
      "text/plain": [
       "<matplotlib.figure.Figure at 0x12b45acd0>"
      ]
     },
     "metadata": {},
     "output_type": "display_data"
    },
    {
     "data": {
      "image/png": "[encoded data removed]",
      "text/plain": [
       "<matplotlib.figure.Figure at 0x12cd38390>"
      ]
     },
     "metadata": {},
     "output_type": "display_data"
    },
    {
     "data": {
      "image/png": "[encoded data removed]",
      "text/plain": [
       "<matplotlib.figure.Figure at 0x12cf1ac10>"
      ]
     },
     "metadata": {},
     "output_type": "display_data"
    },
    {
     "data": {
      "image/png": "[encoded data removed]",
      "text/plain": [
       "<matplotlib.figure.Figure at 0x12d016b50>"
      ]
     },
     "metadata": {},
     "output_type": "display_data"
    },
    {
     "data": {
      "text/plain": [
       "\"\\nsb.factorplot(\\n\\n    x='Week',\\n    y='FTAdWords',\\n    data=adwords_nonnull,\\n    kind='box',\\n    \\n)\\n\""
      ]
     },
     "execution_count": 241,
     "metadata": {},
     "output_type": "execute_result"
    }
   ],
   "source": [
    "adwords_data = data.ix[:, ['FTAdWords', 'PSAdWords','AdWordsSpend', 'Week']]\n",
    "\n",
    "adwords_data.dropna()\n",
    "adwords_nonnull=adwords_data.dropna()\n",
    "adwords_nonnull.describe()\n",
    "print (adwords_nonnull.describe())\n",
    "\n",
    "\n",
    "sns.distplot(adwords_nonnull['FTAdWords'])\n",
    "sns.plt.show()\n",
    "\n",
    "sns.boxplot(adwords_nonnull['FTAdWords'])\n",
    "sns.plt.show()\n",
    "\n",
    "sns.distplot(adwords_nonnull['PSAdWords'])\n",
    "sns.plt.show()\n",
    "\n",
    "sns.boxplot(adwords_nonnull['PSAdWords'])\n",
    "sns.plt.show()\n",
    "\n",
    "'''\n",
    "sb.factorplot(\n",
    "\n",
    "    x='Week',\n",
    "    y='FTAdWords',\n",
    "    data=adwords_nonnull,\n",
    "    kind='box',\n",
    "    \n",
    ")\n",
    "'''"
   ]
  },
  {
   "cell_type": "code",
   "execution_count": 235,
   "metadata": {
    "collapsed": false
   },
   "outputs": [
    {
     "data": {
      "text/plain": [
       "\"\\nsb.factorplot(\\n\\n    x='Week',\\n    y='PSAdWords',\\n    data=adwords_nonnull,\\n    kind='box',\\n    \\n)\\n\""
      ]
     },
     "execution_count": 235,
     "metadata": {},
     "output_type": "execute_result"
    }
   ],
   "source": [
    "'''\n",
    "sb.factorplot(\n",
    "\n",
    "    x='Week',\n",
    "    y='PSAdWords',\n",
    "    data=adwords_nonnull,\n",
    "    kind='box',\n",
    "    \n",
    ")\n",
    "'''"
   ]
  },
  {
   "cell_type": "code",
   "execution_count": 213,
   "metadata": {
    "collapsed": false
   },
   "outputs": [
    {
     "data": {
      "text/plain": [
       "<matplotlib.axes._subplots.AxesSubplot at 0x12957ced0>"
      ]
     },
     "execution_count": 213,
     "metadata": {},
     "output_type": "execute_result"
    },
    {
     "data": {
      "image/png": "[encoded data removed]",
      "text/plain": [
       "<matplotlib.figure.Figure at 0x12958bc50>"
      ]
     },
     "metadata": {},
     "output_type": "display_data"
    }
   ],
   "source": [
    "adwords_nonnull['FTAdWords'].plot(kind='box')"
   ]
  },
  {
   "cell_type": "code",
   "execution_count": 214,
   "metadata": {
    "collapsed": false
   },
   "outputs": [
    {
     "data": {
      "text/plain": [
       "<matplotlib.axes._subplots.AxesSubplot at 0x12959b590>"
      ]
     },
     "execution_count": 214,
     "metadata": {},
     "output_type": "execute_result"
    },
    {
     "data": {
      "image/png": "[encoded data removed]",
      "text/plain": [
       "<matplotlib.figure.Figure at 0x129682310>"
      ]
     },
     "metadata": {},
     "output_type": "display_data"
    }
   ],
   "source": [
    "adwords_nonnull['PSAdWords'].plot(kind='box')"
   ]
  },
  {
   "cell_type": "code",
   "execution_count": 215,
   "metadata": {
    "collapsed": false
   },
   "outputs": [
    {
     "data": {
      "text/plain": [
       "<matplotlib.axes._subplots.AxesSubplot at 0x1298428d0>"
      ]
     },
     "execution_count": 215,
     "metadata": {},
     "output_type": "execute_result"
    },
    {
     "data": {
      "image/png": "[encoded data removed]",
      "text/plain": [
       "<matplotlib.figure.Figure at 0x1296b6190>"
      ]
     },
     "metadata": {},
     "output_type": "display_data"
    }
   ],
   "source": [
    "# visualize the relationship between the features and the response using scatterplots\n",
    "fig, axs = plt.subplots(1, 2, sharey=True)\n",
    "adwords_nonnull.plot(kind='scatter', x='AdWordsSpend', y='FTAdWords', ax=axs[0], figsize=(16, 8))\n",
    "adwords_nonnull.plot(kind='scatter', x='AdWordsSpend', y='PSAdWords', ax=axs[1])"
   ]
  },
  {
   "cell_type": "code",
   "execution_count": 216,
   "metadata": {
    "collapsed": false
   },
   "outputs": [
    {
     "data": {
      "text/html": [
       "<table class=\"simpletable\">\n",
       "<caption>OLS Regression Results</caption>\n",
       "<tr>\n",
       "  <th>Dep. Variable:</th>        <td>FTAdWords</td>    <th>  R-squared:         </th> <td>   0.006</td>\n",
       "</tr>\n",
       "<tr>\n",
       "  <th>Model:</th>                   <td>OLS</td>       <th>  Adj. R-squared:    </th> <td>  -0.026</td>\n",
       "</tr>\n",
       "<tr>\n",
       "  <th>Method:</th>             <td>Least Squares</td>  <th>  F-statistic:       </th> <td>  0.1771</td>\n",
       "</tr>\n",
       "<tr>\n",
       "  <th>Date:</th>             <td>Mon, 03 Jul 2017</td> <th>  Prob (F-statistic):</th>  <td> 0.677</td> \n",
       "</tr>\n",
       "<tr>\n",
       "  <th>Time:</th>                 <td>16:46:09</td>     <th>  Log-Likelihood:    </th> <td> -234.93</td>\n",
       "</tr>\n",
       "<tr>\n",
       "  <th>No. Observations:</th>      <td>    33</td>      <th>  AIC:               </th> <td>   473.9</td>\n",
       "</tr>\n",
       "<tr>\n",
       "  <th>Df Residuals:</th>          <td>    31</td>      <th>  BIC:               </th> <td>   476.8</td>\n",
       "</tr>\n",
       "<tr>\n",
       "  <th>Df Model:</th>              <td>     1</td>      <th>                     </th>     <td> </td>   \n",
       "</tr>\n",
       "<tr>\n",
       "  <th>Covariance Type:</th>      <td>nonrobust</td>    <th>                     </th>     <td> </td>   \n",
       "</tr>\n",
       "</table>\n",
       "<table class=\"simpletable\">\n",
       "<tr>\n",
       "        <td></td>          <th>coef</th>     <th>std err</th>      <th>t</th>      <th>P>|t|</th> <th>[95.0% Conf. Int.]</th> \n",
       "</tr>\n",
       "<tr>\n",
       "  <th>Intercept</th>    <td>  511.0525</td> <td>   86.426</td> <td>    5.913</td> <td> 0.000</td> <td>  334.786   687.319</td>\n",
       "</tr>\n",
       "<tr>\n",
       "  <th>AdWordsSpend</th> <td>   -0.0019</td> <td>    0.004</td> <td>   -0.421</td> <td> 0.677</td> <td>   -0.011     0.007</td>\n",
       "</tr>\n",
       "</table>\n",
       "<table class=\"simpletable\">\n",
       "<tr>\n",
       "  <th>Omnibus:</th>       <td>19.925</td> <th>  Durbin-Watson:     </th> <td>   0.985</td>\n",
       "</tr>\n",
       "<tr>\n",
       "  <th>Prob(Omnibus):</th> <td> 0.000</td> <th>  Jarque-Bera (JB):  </th> <td>  29.225</td>\n",
       "</tr>\n",
       "<tr>\n",
       "  <th>Skew:</th>          <td> 1.536</td> <th>  Prob(JB):          </th> <td>4.51e-07</td>\n",
       "</tr>\n",
       "<tr>\n",
       "  <th>Kurtosis:</th>      <td> 6.438</td> <th>  Cond. No.          </th> <td>3.10e+04</td>\n",
       "</tr>\n",
       "</table>"
      ],
      "text/plain": [
       "<class 'statsmodels.iolib.summary.Summary'>\n",
       "\"\"\"\n",
       "                            OLS Regression Results                            \n",
       "==============================================================================\n",
       "Dep. Variable:              FTAdWords   R-squared:                       0.006\n",
       "Model:                            OLS   Adj. R-squared:                 -0.026\n",
       "Method:                 Least Squares   F-statistic:                    0.1771\n",
       "Date:                Mon, 03 Jul 2017   Prob (F-statistic):              0.677\n",
       "Time:                        16:46:09   Log-Likelihood:                -234.93\n",
       "No. Observations:                  33   AIC:                             473.9\n",
       "Df Residuals:                      31   BIC:                             476.8\n",
       "Df Model:                           1                                         \n",
       "Covariance Type:            nonrobust                                         \n",
       "================================================================================\n",
       "                   coef    std err          t      P>|t|      [95.0% Conf. Int.]\n",
       "--------------------------------------------------------------------------------\n",
       "Intercept      511.0525     86.426      5.913      0.000       334.786   687.319\n",
       "AdWordsSpend    -0.0019      0.004     -0.421      0.677        -0.011     0.007\n",
       "==============================================================================\n",
       "Omnibus:                       19.925   Durbin-Watson:                   0.985\n",
       "Prob(Omnibus):                  0.000   Jarque-Bera (JB):               29.225\n",
       "Skew:                           1.536   Prob(JB):                     4.51e-07\n",
       "Kurtosis:                       6.438   Cond. No.                     3.10e+04\n",
       "==============================================================================\n",
       "\n",
       "Warnings:\n",
       "[1] Standard Errors assume that the covariance matrix of the errors is correctly specified.\n",
       "[2] The condition number is large, 3.1e+04. This might indicate that there are\n",
       "strong multicollinearity or other numerical problems.\n",
       "\"\"\""
      ]
     },
     "execution_count": 216,
     "metadata": {},
     "output_type": "execute_result"
    }
   ],
   "source": [
    "#Looking At AdWords Spend Effects Free Trials\n",
    "import statsmodels.formula.api as smf\n",
    "lm = smf.ols(formula='FTAdWords ~ AdWordsSpend', data=adwords_nonnull).fit()\n",
    "#print the full summary\n",
    "lm.summary()"
   ]
  },
  {
   "cell_type": "code",
   "execution_count": 217,
   "metadata": {
    "collapsed": false
   },
   "outputs": [
    {
     "data": {
      "text/html": [
       "<table class=\"simpletable\">\n",
       "<caption>OLS Regression Results</caption>\n",
       "<tr>\n",
       "  <th>Dep. Variable:</th>        <td>PSAdWords</td>    <th>  R-squared:         </th> <td>   0.003</td>\n",
       "</tr>\n",
       "<tr>\n",
       "  <th>Model:</th>                   <td>OLS</td>       <th>  Adj. R-squared:    </th> <td>  -0.029</td>\n",
       "</tr>\n",
       "<tr>\n",
       "  <th>Method:</th>             <td>Least Squares</td>  <th>  F-statistic:       </th> <td>  0.1021</td>\n",
       "</tr>\n",
       "<tr>\n",
       "  <th>Date:</th>             <td>Mon, 03 Jul 2017</td> <th>  Prob (F-statistic):</th>  <td> 0.751</td> \n",
       "</tr>\n",
       "<tr>\n",
       "  <th>Time:</th>                 <td>16:46:09</td>     <th>  Log-Likelihood:    </th> <td> -211.30</td>\n",
       "</tr>\n",
       "<tr>\n",
       "  <th>No. Observations:</th>      <td>    33</td>      <th>  AIC:               </th> <td>   426.6</td>\n",
       "</tr>\n",
       "<tr>\n",
       "  <th>Df Residuals:</th>          <td>    31</td>      <th>  BIC:               </th> <td>   429.6</td>\n",
       "</tr>\n",
       "<tr>\n",
       "  <th>Df Model:</th>              <td>     1</td>      <th>                     </th>     <td> </td>   \n",
       "</tr>\n",
       "<tr>\n",
       "  <th>Covariance Type:</th>      <td>nonrobust</td>    <th>                     </th>     <td> </td>   \n",
       "</tr>\n",
       "</table>\n",
       "<table class=\"simpletable\">\n",
       "<tr>\n",
       "        <td></td>          <th>coef</th>     <th>std err</th>      <th>t</th>      <th>P>|t|</th> <th>[95.0% Conf. Int.]</th> \n",
       "</tr>\n",
       "<tr>\n",
       "  <th>Intercept</th>    <td>  244.9641</td> <td>   42.244</td> <td>    5.799</td> <td> 0.000</td> <td>  158.807   331.121</td>\n",
       "</tr>\n",
       "<tr>\n",
       "  <th>AdWordsSpend</th> <td>    0.0007</td> <td>    0.002</td> <td>    0.320</td> <td> 0.751</td> <td>   -0.004     0.005</td>\n",
       "</tr>\n",
       "</table>\n",
       "<table class=\"simpletable\">\n",
       "<tr>\n",
       "  <th>Omnibus:</th>       <td>21.116</td> <th>  Durbin-Watson:     </th> <td>   1.022</td>\n",
       "</tr>\n",
       "<tr>\n",
       "  <th>Prob(Omnibus):</th> <td> 0.000</td> <th>  Jarque-Bera (JB):  </th> <td>  30.796</td>\n",
       "</tr>\n",
       "<tr>\n",
       "  <th>Skew:</th>          <td> 1.661</td> <th>  Prob(JB):          </th> <td>2.05e-07</td>\n",
       "</tr>\n",
       "<tr>\n",
       "  <th>Kurtosis:</th>      <td> 6.370</td> <th>  Cond. No.          </th> <td>3.10e+04</td>\n",
       "</tr>\n",
       "</table>"
      ],
      "text/plain": [
       "<class 'statsmodels.iolib.summary.Summary'>\n",
       "\"\"\"\n",
       "                            OLS Regression Results                            \n",
       "==============================================================================\n",
       "Dep. Variable:              PSAdWords   R-squared:                       0.003\n",
       "Model:                            OLS   Adj. R-squared:                 -0.029\n",
       "Method:                 Least Squares   F-statistic:                    0.1021\n",
       "Date:                Mon, 03 Jul 2017   Prob (F-statistic):              0.751\n",
       "Time:                        16:46:09   Log-Likelihood:                -211.30\n",
       "No. Observations:                  33   AIC:                             426.6\n",
       "Df Residuals:                      31   BIC:                             429.6\n",
       "Df Model:                           1                                         \n",
       "Covariance Type:            nonrobust                                         \n",
       "================================================================================\n",
       "                   coef    std err          t      P>|t|      [95.0% Conf. Int.]\n",
       "--------------------------------------------------------------------------------\n",
       "Intercept      244.9641     42.244      5.799      0.000       158.807   331.121\n",
       "AdWordsSpend     0.0007      0.002      0.320      0.751        -0.004     0.005\n",
       "==============================================================================\n",
       "Omnibus:                       21.116   Durbin-Watson:                   1.022\n",
       "Prob(Omnibus):                  0.000   Jarque-Bera (JB):               30.796\n",
       "Skew:                           1.661   Prob(JB):                     2.05e-07\n",
       "Kurtosis:                       6.370   Cond. No.                     3.10e+04\n",
       "==============================================================================\n",
       "\n",
       "Warnings:\n",
       "[1] Standard Errors assume that the covariance matrix of the errors is correctly specified.\n",
       "[2] The condition number is large, 3.1e+04. This might indicate that there are\n",
       "strong multicollinearity or other numerical problems.\n",
       "\"\"\""
      ]
     },
     "execution_count": 217,
     "metadata": {},
     "output_type": "execute_result"
    }
   ],
   "source": [
    "#Looking At AdWords Spend Effects Pay Subs\n",
    "import statsmodels.formula.api as smf\n",
    "lm = smf.ols(formula='PSAdWords ~ AdWordsSpend', data=adwords_nonnull).fit()\n",
    "#print the full summary\n",
    "lm.summary()"
   ]
  },
  {
   "cell_type": "markdown",
   "metadata": {
    "collapsed": true
   },
   "source": [
    "## Channel: Facebook"
   ]
  },
  {
   "cell_type": "code",
   "execution_count": 218,
   "metadata": {
    "collapsed": false
   },
   "outputs": [
    {
     "name": "stdout",
     "output_type": "stream",
     "text": [
      "        FTFacebook   PSFacebook  FacebookSpend       Week\n",
      "count    46.000000    46.000000      46.000000  46.000000\n",
      "mean   1640.304348   806.173913   79721.913043  27.239130\n",
      "std    1043.393712   481.909365   44562.541277  10.396976\n",
      "min      91.000000    49.000000     843.000000  11.000000\n",
      "25%     997.500000   441.750000   43339.250000  19.000000\n",
      "50%    1603.000000   814.500000   86978.500000  24.500000\n",
      "75%    2138.000000  1055.250000  105286.250000  35.750000\n",
      "max    5052.000000  1913.000000  159965.000000  47.000000\n"
     ]
    },
    {
     "data": {
      "text/plain": [
       "<seaborn.axisgrid.FacetGrid at 0x1296a2c50>"
      ]
     },
     "execution_count": 218,
     "metadata": {},
     "output_type": "execute_result"
    },
    {
     "data": {
      "image/png": "[encoded data removed]",
      "text/plain": [
       "<matplotlib.figure.Figure at 0x1296c4f50>"
      ]
     },
     "metadata": {},
     "output_type": "display_data"
    }
   ],
   "source": [
    "facebook_data = data.ix[:, ['FTFacebook', 'PSFacebook','FacebookSpend', 'Week']]\n",
    "\n",
    "facebook_data.dropna()\n",
    "facebook_nonnull=facebook_data.dropna()\n",
    "facebook_nonnull.describe()\n",
    "print (facebook_nonnull.describe())\n",
    "\n",
    "sb.factorplot(\n",
    "\n",
    "    x='Week',\n",
    "    y='FTFacebook',\n",
    "    data=facebook_nonnull,\n",
    "    kind='box',\n",
    "    \n",
    ")"
   ]
  },
  {
   "cell_type": "code",
   "execution_count": 219,
   "metadata": {
    "collapsed": false
   },
   "outputs": [
    {
     "data": {
      "text/plain": [
       "<seaborn.axisgrid.FacetGrid at 0x129a9b710>"
      ]
     },
     "execution_count": 219,
     "metadata": {},
     "output_type": "execute_result"
    },
    {
     "data": {
      "image/png": "[encoded data removed]",
      "text/plain": [
       "<matplotlib.figure.Figure at 0x1296b6290>"
      ]
     },
     "metadata": {},
     "output_type": "display_data"
    }
   ],
   "source": [
    "sb.factorplot(\n",
    "\n",
    "    x='Week',\n",
    "    y='PSFacebook',\n",
    "    data=facebook_nonnull,\n",
    "    kind='box',\n",
    "    \n",
    ")"
   ]
  },
  {
   "cell_type": "code",
   "execution_count": 220,
   "metadata": {
    "collapsed": false
   },
   "outputs": [
    {
     "data": {
      "text/plain": [
       "<matplotlib.axes._subplots.AxesSubplot at 0x12aa31fd0>"
      ]
     },
     "execution_count": 220,
     "metadata": {},
     "output_type": "execute_result"
    },
    {
     "data": {
      "image/png": "[encoded data removed]",
      "text/plain": [
       "<matplotlib.figure.Figure at 0x12aa31190>"
      ]
     },
     "metadata": {},
     "output_type": "display_data"
    }
   ],
   "source": [
    "facebook_nonnull['FTFacebook'].plot(kind='box')"
   ]
  },
  {
   "cell_type": "code",
   "execution_count": 221,
   "metadata": {
    "collapsed": false
   },
   "outputs": [
    {
     "data": {
      "text/plain": [
       "<matplotlib.axes._subplots.AxesSubplot at 0x12aa28090>"
      ]
     },
     "execution_count": 221,
     "metadata": {},
     "output_type": "execute_result"
    },
    {
     "data": {
      "image/png": "[encoded data removed]",
      "text/plain": [
       "<matplotlib.figure.Figure at 0x12ab303d0>"
      ]
     },
     "metadata": {},
     "output_type": "display_data"
    }
   ],
   "source": [
    "facebook_nonnull['PSFacebook'].plot(kind='box')"
   ]
  },
  {
   "cell_type": "code",
   "execution_count": 222,
   "metadata": {
    "collapsed": false
   },
   "outputs": [
    {
     "data": {
      "text/html": [
       "<table class=\"simpletable\">\n",
       "<caption>OLS Regression Results</caption>\n",
       "<tr>\n",
       "  <th>Dep. Variable:</th>       <td>FTFacebook</td>    <th>  R-squared:         </th> <td>   0.529</td>\n",
       "</tr>\n",
       "<tr>\n",
       "  <th>Model:</th>                   <td>OLS</td>       <th>  Adj. R-squared:    </th> <td>   0.518</td>\n",
       "</tr>\n",
       "<tr>\n",
       "  <th>Method:</th>             <td>Least Squares</td>  <th>  F-statistic:       </th> <td>   49.34</td>\n",
       "</tr>\n",
       "<tr>\n",
       "  <th>Date:</th>             <td>Mon, 03 Jul 2017</td> <th>  Prob (F-statistic):</th> <td>1.05e-08</td>\n",
       "</tr>\n",
       "<tr>\n",
       "  <th>Time:</th>                 <td>16:46:13</td>     <th>  Log-Likelihood:    </th> <td> -367.18</td>\n",
       "</tr>\n",
       "<tr>\n",
       "  <th>No. Observations:</th>      <td>    46</td>      <th>  AIC:               </th> <td>   738.4</td>\n",
       "</tr>\n",
       "<tr>\n",
       "  <th>Df Residuals:</th>          <td>    44</td>      <th>  BIC:               </th> <td>   742.0</td>\n",
       "</tr>\n",
       "<tr>\n",
       "  <th>Df Model:</th>              <td>     1</td>      <th>                     </th>     <td> </td>   \n",
       "</tr>\n",
       "<tr>\n",
       "  <th>Covariance Type:</th>      <td>nonrobust</td>    <th>                     </th>     <td> </td>   \n",
       "</tr>\n",
       "</table>\n",
       "<table class=\"simpletable\">\n",
       "<tr>\n",
       "        <td></td>           <th>coef</th>     <th>std err</th>      <th>t</th>      <th>P>|t|</th> <th>[95.0% Conf. Int.]</th> \n",
       "</tr>\n",
       "<tr>\n",
       "  <th>Intercept</th>     <td>  283.1793</td> <td>  220.770</td> <td>    1.283</td> <td> 0.206</td> <td> -161.752   728.111</td>\n",
       "</tr>\n",
       "<tr>\n",
       "  <th>FacebookSpend</th> <td>    0.0170</td> <td>    0.002</td> <td>    7.024</td> <td> 0.000</td> <td>    0.012     0.022</td>\n",
       "</tr>\n",
       "</table>\n",
       "<table class=\"simpletable\">\n",
       "<tr>\n",
       "  <th>Omnibus:</th>       <td>33.073</td> <th>  Durbin-Watson:     </th> <td>   0.865</td>\n",
       "</tr>\n",
       "<tr>\n",
       "  <th>Prob(Omnibus):</th> <td> 0.000</td> <th>  Jarque-Bera (JB):  </th> <td>  75.944</td>\n",
       "</tr>\n",
       "<tr>\n",
       "  <th>Skew:</th>          <td> 2.017</td> <th>  Prob(JB):          </th> <td>3.23e-17</td>\n",
       "</tr>\n",
       "<tr>\n",
       "  <th>Kurtosis:</th>      <td> 7.832</td> <th>  Cond. No.          </th> <td>1.88e+05</td>\n",
       "</tr>\n",
       "</table>"
      ],
      "text/plain": [
       "<class 'statsmodels.iolib.summary.Summary'>\n",
       "\"\"\"\n",
       "                            OLS Regression Results                            \n",
       "==============================================================================\n",
       "Dep. Variable:             FTFacebook   R-squared:                       0.529\n",
       "Model:                            OLS   Adj. R-squared:                  0.518\n",
       "Method:                 Least Squares   F-statistic:                     49.34\n",
       "Date:                Mon, 03 Jul 2017   Prob (F-statistic):           1.05e-08\n",
       "Time:                        16:46:13   Log-Likelihood:                -367.18\n",
       "No. Observations:                  46   AIC:                             738.4\n",
       "Df Residuals:                      44   BIC:                             742.0\n",
       "Df Model:                           1                                         \n",
       "Covariance Type:            nonrobust                                         \n",
       "=================================================================================\n",
       "                    coef    std err          t      P>|t|      [95.0% Conf. Int.]\n",
       "---------------------------------------------------------------------------------\n",
       "Intercept       283.1793    220.770      1.283      0.206      -161.752   728.111\n",
       "FacebookSpend     0.0170      0.002      7.024      0.000         0.012     0.022\n",
       "==============================================================================\n",
       "Omnibus:                       33.073   Durbin-Watson:                   0.865\n",
       "Prob(Omnibus):                  0.000   Jarque-Bera (JB):               75.944\n",
       "Skew:                           2.017   Prob(JB):                     3.23e-17\n",
       "Kurtosis:                       7.832   Cond. No.                     1.88e+05\n",
       "==============================================================================\n",
       "\n",
       "Warnings:\n",
       "[1] Standard Errors assume that the covariance matrix of the errors is correctly specified.\n",
       "[2] The condition number is large, 1.88e+05. This might indicate that there are\n",
       "strong multicollinearity or other numerical problems.\n",
       "\"\"\""
      ]
     },
     "execution_count": 222,
     "metadata": {},
     "output_type": "execute_result"
    }
   ],
   "source": [
    "#Looking At Facebook Spend Effects Free Trials\n",
    "import statsmodels.formula.api as smf\n",
    "lm = smf.ols(formula='FTFacebook ~ FacebookSpend', data=facebook_nonnull).fit()\n",
    "#print the full summary\n",
    "lm.summary()"
   ]
  },
  {
   "cell_type": "code",
   "execution_count": 223,
   "metadata": {
    "collapsed": false
   },
   "outputs": [
    {
     "data": {
      "text/html": [
       "<table class=\"simpletable\">\n",
       "<caption>OLS Regression Results</caption>\n",
       "<tr>\n",
       "  <th>Dep. Variable:</th>       <td>PSFacebook</td>    <th>  R-squared:         </th> <td>   0.586</td>\n",
       "</tr>\n",
       "<tr>\n",
       "  <th>Model:</th>                   <td>OLS</td>       <th>  Adj. R-squared:    </th> <td>   0.577</td>\n",
       "</tr>\n",
       "<tr>\n",
       "  <th>Method:</th>             <td>Least Squares</td>  <th>  F-statistic:       </th> <td>   62.28</td>\n",
       "</tr>\n",
       "<tr>\n",
       "  <th>Date:</th>             <td>Mon, 03 Jul 2017</td> <th>  Prob (F-statistic):</th> <td>5.78e-10</td>\n",
       "</tr>\n",
       "<tr>\n",
       "  <th>Time:</th>                 <td>16:46:13</td>     <th>  Log-Likelihood:    </th> <td> -328.66</td>\n",
       "</tr>\n",
       "<tr>\n",
       "  <th>No. Observations:</th>      <td>    46</td>      <th>  AIC:               </th> <td>   661.3</td>\n",
       "</tr>\n",
       "<tr>\n",
       "  <th>Df Residuals:</th>          <td>    44</td>      <th>  BIC:               </th> <td>   665.0</td>\n",
       "</tr>\n",
       "<tr>\n",
       "  <th>Df Model:</th>              <td>     1</td>      <th>                     </th>     <td> </td>   \n",
       "</tr>\n",
       "<tr>\n",
       "  <th>Covariance Type:</th>      <td>nonrobust</td>    <th>                     </th>     <td> </td>   \n",
       "</tr>\n",
       "</table>\n",
       "<table class=\"simpletable\">\n",
       "<tr>\n",
       "        <td></td>           <th>coef</th>     <th>std err</th>      <th>t</th>      <th>P>|t|</th> <th>[95.0% Conf. Int.]</th> \n",
       "</tr>\n",
       "<tr>\n",
       "  <th>Intercept</th>     <td>  146.2185</td> <td>   95.559</td> <td>    1.530</td> <td> 0.133</td> <td>  -46.368   338.805</td>\n",
       "</tr>\n",
       "<tr>\n",
       "  <th>FacebookSpend</th> <td>    0.0083</td> <td>    0.001</td> <td>    7.891</td> <td> 0.000</td> <td>    0.006     0.010</td>\n",
       "</tr>\n",
       "</table>\n",
       "<table class=\"simpletable\">\n",
       "<tr>\n",
       "  <th>Omnibus:</th>       <td>12.593</td> <th>  Durbin-Watson:     </th> <td>   1.130</td>\n",
       "</tr>\n",
       "<tr>\n",
       "  <th>Prob(Omnibus):</th> <td> 0.002</td> <th>  Jarque-Bera (JB):  </th> <td>  13.187</td>\n",
       "</tr>\n",
       "<tr>\n",
       "  <th>Skew:</th>          <td> 1.073</td> <th>  Prob(JB):          </th> <td> 0.00137</td>\n",
       "</tr>\n",
       "<tr>\n",
       "  <th>Kurtosis:</th>      <td> 4.509</td> <th>  Cond. No.          </th> <td>1.88e+05</td>\n",
       "</tr>\n",
       "</table>"
      ],
      "text/plain": [
       "<class 'statsmodels.iolib.summary.Summary'>\n",
       "\"\"\"\n",
       "                            OLS Regression Results                            \n",
       "==============================================================================\n",
       "Dep. Variable:             PSFacebook   R-squared:                       0.586\n",
       "Model:                            OLS   Adj. R-squared:                  0.577\n",
       "Method:                 Least Squares   F-statistic:                     62.28\n",
       "Date:                Mon, 03 Jul 2017   Prob (F-statistic):           5.78e-10\n",
       "Time:                        16:46:13   Log-Likelihood:                -328.66\n",
       "No. Observations:                  46   AIC:                             661.3\n",
       "Df Residuals:                      44   BIC:                             665.0\n",
       "Df Model:                           1                                         \n",
       "Covariance Type:            nonrobust                                         \n",
       "=================================================================================\n",
       "                    coef    std err          t      P>|t|      [95.0% Conf. Int.]\n",
       "---------------------------------------------------------------------------------\n",
       "Intercept       146.2185     95.559      1.530      0.133       -46.368   338.805\n",
       "FacebookSpend     0.0083      0.001      7.891      0.000         0.006     0.010\n",
       "==============================================================================\n",
       "Omnibus:                       12.593   Durbin-Watson:                   1.130\n",
       "Prob(Omnibus):                  0.002   Jarque-Bera (JB):               13.187\n",
       "Skew:                           1.073   Prob(JB):                      0.00137\n",
       "Kurtosis:                       4.509   Cond. No.                     1.88e+05\n",
       "==============================================================================\n",
       "\n",
       "Warnings:\n",
       "[1] Standard Errors assume that the covariance matrix of the errors is correctly specified.\n",
       "[2] The condition number is large, 1.88e+05. This might indicate that there are\n",
       "strong multicollinearity or other numerical problems.\n",
       "\"\"\""
      ]
     },
     "execution_count": 223,
     "metadata": {},
     "output_type": "execute_result"
    }
   ],
   "source": [
    "#Looking At Facebook Spend Effects Pay Subs\n",
    "import statsmodels.formula.api as smf\n",
    "lm = smf.ols(formula='PSFacebook ~ FacebookSpend', data=facebook_nonnull).fit()\n",
    "#print the full summary\n",
    "lm.summary()"
   ]
  },
  {
   "cell_type": "code",
   "execution_count": 224,
   "metadata": {
    "collapsed": false
   },
   "outputs": [
    {
     "data": {
      "text/plain": [
       "<matplotlib.axes._subplots.AxesSubplot at 0x12adf4110>"
      ]
     },
     "execution_count": 224,
     "metadata": {},
     "output_type": "execute_result"
    },
    {
     "data": {
      "image/png": "[encoded data removed]",
      "text/plain": [
       "<matplotlib.figure.Figure at 0x12ad581d0>"
      ]
     },
     "metadata": {},
     "output_type": "display_data"
    }
   ],
   "source": [
    "fig, axs = plt.subplots(1, 2, sharey=True)\n",
    "facebook_nonnull.plot(kind='scatter', x='FacebookSpend', y='FTFacebook', ax=axs[0], figsize=(16, 8))\n",
    "facebook_nonnull.plot(kind='scatter', x='FacebookSpend', y='PSFacebook', ax=axs[1])"
   ]
  },
  {
   "cell_type": "markdown",
   "metadata": {},
   "source": [
    "## Channel: Instagram"
   ]
  },
  {
   "cell_type": "code",
   "execution_count": 225,
   "metadata": {
    "collapsed": false
   },
   "outputs": [
    {
     "name": "stdout",
     "output_type": "stream",
     "text": [
      "        FTInstagram  PSInstagram  InstagramSpend       Week\n",
      "count     46.000000    46.000000       46.000000  46.000000\n",
      "mean    1232.978261   469.826087    54217.086957  27.239130\n",
      "std     1890.987966   637.968418    41222.643734  10.396976\n",
      "min       10.000000     5.000000      395.000000  11.000000\n",
      "25%      398.500000   173.250000    21830.500000  19.000000\n",
      "50%      834.000000   345.000000    55334.500000  24.500000\n",
      "75%     1249.500000   531.000000    74753.000000  35.750000\n",
      "max    10978.000000  3618.000000   212378.000000  47.000000\n"
     ]
    }
   ],
   "source": [
    "instagram_data = data.ix[:, ['FTInstagram', 'PSInstagram', 'InstagramSpend', 'Week']]\n",
    "\n",
    "instagram_data.dropna()\n",
    "instagram_nonnull=instagram_data.dropna()\n",
    "instagram_nonnull.describe()\n",
    "print (instagram_nonnull.describe())\n"
   ]
  },
  {
   "cell_type": "code",
   "execution_count": 226,
   "metadata": {
    "collapsed": false
   },
   "outputs": [
    {
     "data": {
      "text/plain": [
       "<matplotlib.axes._subplots.AxesSubplot at 0x12aef4fd0>"
      ]
     },
     "execution_count": 226,
     "metadata": {},
     "output_type": "execute_result"
    },
    {
     "data": {
      "image/png": "[encoded data removed]",
      "text/plain": [
       "<matplotlib.figure.Figure at 0x12ad47dd0>"
      ]
     },
     "metadata": {},
     "output_type": "display_data"
    }
   ],
   "source": [
    "instagram_nonnull['FTInstagram'].plot(kind='box')"
   ]
  },
  {
   "cell_type": "code",
   "execution_count": 227,
   "metadata": {
    "collapsed": false
   },
   "outputs": [
    {
     "data": {
      "text/plain": [
       "<matplotlib.axes._subplots.AxesSubplot at 0x12ae862d0>"
      ]
     },
     "execution_count": 227,
     "metadata": {},
     "output_type": "execute_result"
    },
    {
     "data": {
      "image/png": "[encoded data removed]",
      "text/plain": [
       "<matplotlib.figure.Figure at 0x12b18cdd0>"
      ]
     },
     "metadata": {},
     "output_type": "display_data"
    }
   ],
   "source": [
    "instagram_nonnull['PSInstagram'].plot(kind='box')"
   ]
  },
  {
   "cell_type": "code",
   "execution_count": 228,
   "metadata": {
    "collapsed": false
   },
   "outputs": [
    {
     "data": {
      "text/html": [
       "<table class=\"simpletable\">\n",
       "<caption>OLS Regression Results</caption>\n",
       "<tr>\n",
       "  <th>Dep. Variable:</th>       <td>FTInstagram</td>   <th>  R-squared:         </th> <td>   0.651</td>\n",
       "</tr>\n",
       "<tr>\n",
       "  <th>Model:</th>                   <td>OLS</td>       <th>  Adj. R-squared:    </th> <td>   0.643</td>\n",
       "</tr>\n",
       "<tr>\n",
       "  <th>Method:</th>             <td>Least Squares</td>  <th>  F-statistic:       </th> <td>   82.21</td>\n",
       "</tr>\n",
       "<tr>\n",
       "  <th>Date:</th>             <td>Mon, 03 Jul 2017</td> <th>  Prob (F-statistic):</th> <td>1.25e-11</td>\n",
       "</tr>\n",
       "<tr>\n",
       "  <th>Time:</th>                 <td>16:46:17</td>     <th>  Log-Likelihood:    </th> <td> -387.59</td>\n",
       "</tr>\n",
       "<tr>\n",
       "  <th>No. Observations:</th>      <td>    46</td>      <th>  AIC:               </th> <td>   779.2</td>\n",
       "</tr>\n",
       "<tr>\n",
       "  <th>Df Residuals:</th>          <td>    44</td>      <th>  BIC:               </th> <td>   782.8</td>\n",
       "</tr>\n",
       "<tr>\n",
       "  <th>Df Model:</th>              <td>     1</td>      <th>                     </th>     <td> </td>   \n",
       "</tr>\n",
       "<tr>\n",
       "  <th>Covariance Type:</th>      <td>nonrobust</td>    <th>                     </th>     <td> </td>   \n",
       "</tr>\n",
       "</table>\n",
       "<table class=\"simpletable\">\n",
       "<tr>\n",
       "         <td></td>           <th>coef</th>     <th>std err</th>      <th>t</th>      <th>P>|t|</th> <th>[95.0% Conf. Int.]</th> \n",
       "</tr>\n",
       "<tr>\n",
       "  <th>Intercept</th>      <td> -774.2647</td> <td>  277.001</td> <td>   -2.795</td> <td> 0.008</td> <td>-1332.523  -216.006</td>\n",
       "</tr>\n",
       "<tr>\n",
       "  <th>InstagramSpend</th> <td>    0.0370</td> <td>    0.004</td> <td>    9.067</td> <td> 0.000</td> <td>    0.029     0.045</td>\n",
       "</tr>\n",
       "</table>\n",
       "<table class=\"simpletable\">\n",
       "<tr>\n",
       "  <th>Omnibus:</th>       <td>18.936</td> <th>  Durbin-Watson:     </th> <td>   0.696</td>\n",
       "</tr>\n",
       "<tr>\n",
       "  <th>Prob(Omnibus):</th> <td> 0.000</td> <th>  Jarque-Bera (JB):  </th> <td>  31.308</td>\n",
       "</tr>\n",
       "<tr>\n",
       "  <th>Skew:</th>          <td> 1.195</td> <th>  Prob(JB):          </th> <td>1.59e-07</td>\n",
       "</tr>\n",
       "<tr>\n",
       "  <th>Kurtosis:</th>      <td> 6.259</td> <th>  Cond. No.          </th> <td>1.13e+05</td>\n",
       "</tr>\n",
       "</table>"
      ],
      "text/plain": [
       "<class 'statsmodels.iolib.summary.Summary'>\n",
       "\"\"\"\n",
       "                            OLS Regression Results                            \n",
       "==============================================================================\n",
       "Dep. Variable:            FTInstagram   R-squared:                       0.651\n",
       "Model:                            OLS   Adj. R-squared:                  0.643\n",
       "Method:                 Least Squares   F-statistic:                     82.21\n",
       "Date:                Mon, 03 Jul 2017   Prob (F-statistic):           1.25e-11\n",
       "Time:                        16:46:17   Log-Likelihood:                -387.59\n",
       "No. Observations:                  46   AIC:                             779.2\n",
       "Df Residuals:                      44   BIC:                             782.8\n",
       "Df Model:                           1                                         \n",
       "Covariance Type:            nonrobust                                         \n",
       "==================================================================================\n",
       "                     coef    std err          t      P>|t|      [95.0% Conf. Int.]\n",
       "----------------------------------------------------------------------------------\n",
       "Intercept       -774.2647    277.001     -2.795      0.008     -1332.523  -216.006\n",
       "InstagramSpend     0.0370      0.004      9.067      0.000         0.029     0.045\n",
       "==============================================================================\n",
       "Omnibus:                       18.936   Durbin-Watson:                   0.696\n",
       "Prob(Omnibus):                  0.000   Jarque-Bera (JB):               31.308\n",
       "Skew:                           1.195   Prob(JB):                     1.59e-07\n",
       "Kurtosis:                       6.259   Cond. No.                     1.13e+05\n",
       "==============================================================================\n",
       "\n",
       "Warnings:\n",
       "[1] Standard Errors assume that the covariance matrix of the errors is correctly specified.\n",
       "[2] The condition number is large, 1.13e+05. This might indicate that there are\n",
       "strong multicollinearity or other numerical problems.\n",
       "\"\"\""
      ]
     },
     "execution_count": 228,
     "metadata": {},
     "output_type": "execute_result"
    }
   ],
   "source": [
    "#Looking At Facebook Spend Effects Free Trial\n",
    "import statsmodels.formula.api as smf\n",
    "lm = smf.ols(formula='FTInstagram ~ InstagramSpend', data=instagram_nonnull).fit()\n",
    "#print the full summary\n",
    "lm.summary()"
   ]
  },
  {
   "cell_type": "code",
   "execution_count": 202,
   "metadata": {
    "collapsed": false
   },
   "outputs": [
    {
     "data": {
      "text/html": [
       "<table class=\"simpletable\">\n",
       "<caption>OLS Regression Results</caption>\n",
       "<tr>\n",
       "  <th>Dep. Variable:</th>       <td>PSInstagram</td>   <th>  R-squared:         </th> <td>   0.674</td>\n",
       "</tr>\n",
       "<tr>\n",
       "  <th>Model:</th>                   <td>OLS</td>       <th>  Adj. R-squared:    </th> <td>   0.666</td>\n",
       "</tr>\n",
       "<tr>\n",
       "  <th>Method:</th>             <td>Least Squares</td>  <th>  F-statistic:       </th> <td>   90.87</td>\n",
       "</tr>\n",
       "<tr>\n",
       "  <th>Date:</th>             <td>Mon, 03 Jul 2017</td> <th>  Prob (F-statistic):</th> <td>2.86e-12</td>\n",
       "</tr>\n",
       "<tr>\n",
       "  <th>Time:</th>                 <td>16:38:40</td>     <th>  Log-Likelihood:    </th> <td> -336.08</td>\n",
       "</tr>\n",
       "<tr>\n",
       "  <th>No. Observations:</th>      <td>    46</td>      <th>  AIC:               </th> <td>   676.2</td>\n",
       "</tr>\n",
       "<tr>\n",
       "  <th>Df Residuals:</th>          <td>    44</td>      <th>  BIC:               </th> <td>   679.8</td>\n",
       "</tr>\n",
       "<tr>\n",
       "  <th>Df Model:</th>              <td>     1</td>      <th>                     </th>     <td> </td>   \n",
       "</tr>\n",
       "<tr>\n",
       "  <th>Covariance Type:</th>      <td>nonrobust</td>    <th>                     </th>     <td> </td>   \n",
       "</tr>\n",
       "</table>\n",
       "<table class=\"simpletable\">\n",
       "<tr>\n",
       "         <td></td>           <th>coef</th>     <th>std err</th>      <th>t</th>      <th>P>|t|</th> <th>[95.0% Conf. Int.]</th> \n",
       "</tr>\n",
       "<tr>\n",
       "  <th>Intercept</th>      <td> -218.9142</td> <td>   90.399</td> <td>   -2.422</td> <td> 0.020</td> <td> -401.102   -36.726</td>\n",
       "</tr>\n",
       "<tr>\n",
       "  <th>InstagramSpend</th> <td>    0.0127</td> <td>    0.001</td> <td>    9.533</td> <td> 0.000</td> <td>    0.010     0.015</td>\n",
       "</tr>\n",
       "</table>\n",
       "<table class=\"simpletable\">\n",
       "<tr>\n",
       "  <th>Omnibus:</th>       <td>18.724</td> <th>  Durbin-Watson:     </th> <td>   0.687</td>\n",
       "</tr>\n",
       "<tr>\n",
       "  <th>Prob(Omnibus):</th> <td> 0.000</td> <th>  Jarque-Bera (JB):  </th> <td>  30.673</td>\n",
       "</tr>\n",
       "<tr>\n",
       "  <th>Skew:</th>          <td> 1.186</td> <th>  Prob(JB):          </th> <td>2.18e-07</td>\n",
       "</tr>\n",
       "<tr>\n",
       "  <th>Kurtosis:</th>      <td> 6.222</td> <th>  Cond. No.          </th> <td>1.13e+05</td>\n",
       "</tr>\n",
       "</table>"
      ],
      "text/plain": [
       "<class 'statsmodels.iolib.summary.Summary'>\n",
       "\"\"\"\n",
       "                            OLS Regression Results                            \n",
       "==============================================================================\n",
       "Dep. Variable:            PSInstagram   R-squared:                       0.674\n",
       "Model:                            OLS   Adj. R-squared:                  0.666\n",
       "Method:                 Least Squares   F-statistic:                     90.87\n",
       "Date:                Mon, 03 Jul 2017   Prob (F-statistic):           2.86e-12\n",
       "Time:                        16:38:40   Log-Likelihood:                -336.08\n",
       "No. Observations:                  46   AIC:                             676.2\n",
       "Df Residuals:                      44   BIC:                             679.8\n",
       "Df Model:                           1                                         \n",
       "Covariance Type:            nonrobust                                         \n",
       "==================================================================================\n",
       "                     coef    std err          t      P>|t|      [95.0% Conf. Int.]\n",
       "----------------------------------------------------------------------------------\n",
       "Intercept       -218.9142     90.399     -2.422      0.020      -401.102   -36.726\n",
       "InstagramSpend     0.0127      0.001      9.533      0.000         0.010     0.015\n",
       "==============================================================================\n",
       "Omnibus:                       18.724   Durbin-Watson:                   0.687\n",
       "Prob(Omnibus):                  0.000   Jarque-Bera (JB):               30.673\n",
       "Skew:                           1.186   Prob(JB):                     2.18e-07\n",
       "Kurtosis:                       6.222   Cond. No.                     1.13e+05\n",
       "==============================================================================\n",
       "\n",
       "Warnings:\n",
       "[1] Standard Errors assume that the covariance matrix of the errors is correctly specified.\n",
       "[2] The condition number is large, 1.13e+05. This might indicate that there are\n",
       "strong multicollinearity or other numerical problems.\n",
       "\"\"\""
      ]
     },
     "execution_count": 202,
     "metadata": {},
     "output_type": "execute_result"
    }
   ],
   "source": [
    "#Looking At Facebook Spend Effects Pay Subs\n",
    "import statsmodels.formula.api as smf\n",
    "lm = smf.ols(formula='PSInstagram ~ InstagramSpend', data=instagram_nonnull).fit()\n",
    "#print the full summary\n",
    "lm.summary()"
   ]
  },
  {
   "cell_type": "code",
   "execution_count": 204,
   "metadata": {
    "collapsed": false
   },
   "outputs": [
    {
     "data": {
      "text/plain": [
       "<matplotlib.axes._subplots.AxesSubplot at 0x128707990>"
      ]
     },
     "execution_count": 204,
     "metadata": {},
     "output_type": "execute_result"
    },
    {
     "data": {
      "image/png": "[encoded data removed]",
      "text/plain": [
       "<matplotlib.figure.Figure at 0x1285b3690>"
      ]
     },
     "metadata": {},
     "output_type": "display_data"
    }
   ],
   "source": [
    "fig, axs = plt.subplots(1, 2, sharey=True)\n",
    "instagram_nonnull.plot(kind='scatter', x='InstagramSpend', y='FTInstagram', ax=axs[0], figsize=(16, 8))\n",
    "instagram_nonnull.plot(kind='scatter', x='InstagramSpend', y='PSInstagram', ax=axs[1])"
   ]
  },
  {
   "cell_type": "markdown",
   "metadata": {
    "collapsed": true
   },
   "source": [
    "## All Channels"
   ]
  },
  {
   "cell_type": "code",
   "execution_count": 192,
   "metadata": {
    "collapsed": false
   },
   "outputs": [
    {
     "name": "stdout",
     "output_type": "stream",
     "text": [
      "                FTAdWords  PSAdWords  AdWordsSpend  FTInstagram  PSInstagram  \\\n",
      "FTAdWords        1.000000   0.947443     -0.075375     0.086634     0.099006   \n",
      "PSAdWords        0.947443   1.000000      0.114138     0.188140     0.207916   \n",
      "AdWordsSpend    -0.075375   0.114138      1.000000    -0.035464    -0.019217   \n",
      "FTInstagram      0.086634   0.188140     -0.035464     1.000000     0.996770   \n",
      "PSInstagram      0.099006   0.207916     -0.019217     0.996770     1.000000   \n",
      "InstagramSpend  -0.007893   0.209701      0.277419     0.807069     0.820835   \n",
      "FTFacebook       0.227515   0.301636      0.088797     0.768772     0.793085   \n",
      "PSFacebook       0.195921   0.297292      0.184539     0.616404     0.657216   \n",
      "FacebookSpend   -0.040234   0.157429      0.517413     0.345793     0.370659   \n",
      "\n",
      "                InstagramSpend  FTFacebook  PSFacebook  FacebookSpend  \n",
      "FTAdWords            -0.007893    0.227515    0.195921      -0.040234  \n",
      "PSAdWords             0.209701    0.301636    0.297292       0.157429  \n",
      "AdWordsSpend          0.277419    0.088797    0.184539       0.517413  \n",
      "FTInstagram           0.807069    0.768772    0.616404       0.345793  \n",
      "PSInstagram           0.820835    0.793085    0.657216       0.370659  \n",
      "InstagramSpend        1.000000    0.718022    0.596227       0.669629  \n",
      "FTFacebook            0.718022    1.000000    0.940407       0.727049  \n",
      "PSFacebook            0.596227    0.940407    1.000000       0.765493  \n",
      "FacebookSpend         0.669629    0.727049    0.765493       1.000000  \n",
      "Axes(0.125,0.125;0.62x0.755)\n"
     ]
    },
    {
     "data": {
      "image/png": "[encoded data removed]",
      "text/plain": [
       "<matplotlib.figure.Figure at 0x1279b3f90>"
      ]
     },
     "metadata": {},
     "output_type": "display_data"
    }
   ],
   "source": [
    "channel_data = data.ix[:, ['FTAdWords', 'PSAdWords','AdWordsSpend','FTInstagram', 'PSInstagram', 'InstagramSpend','FTFacebook', 'PSFacebook','FacebookSpend', 'Week']]\n",
    "\n",
    "cmap = sns.diverging_palette(220, 10, as_cmap=True)\n",
    "\n",
    "correlations = channel_data[['FTAdWords', 'PSAdWords','AdWordsSpend','FTInstagram', 'PSInstagram', 'InstagramSpend','FTFacebook', 'PSFacebook', 'FacebookSpend']].corr()\n",
    "print correlations\n",
    "print sns.heatmap(correlations, cmap=cmap)"
   ]
  },
  {
   "cell_type": "code",
   "execution_count": null,
   "metadata": {
    "collapsed": true
   },
   "outputs": [],
   "source": []
  }
 ],
 "metadata": {
  "kernelspec": {
   "display_name": "Python 2",
   "language": "python",
   "name": "python2"
  },
  "language_info": {
   "codemirror_mode": {
    "name": "ipython",
    "version": 2
   },
   "file_extension": ".py",
   "mimetype": "text/x-python",
   "name": "python",
   "nbconvert_exporter": "python",
   "pygments_lexer": "ipython2",
   "version": "2.7.13"
  }
 },
 "nbformat": 4,
 "nbformat_minor": 0
}
