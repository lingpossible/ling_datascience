{
 "cells": [
  {
   "cell_type": "markdown",
   "metadata": {},
   "source": [
    "## Exploring Channel (Media-Mix) Performance Data"
   ]
  },
  {
   "cell_type": "code",
   "execution_count": 453,
   "metadata": {
    "collapsed": false
   },
   "outputs": [],
   "source": [
    "import pandas as pd\n",
    "import seaborn as sns\n",
    "import matplotlib.pyplot as plt\n",
    "%matplotlib inline\n",
    "\n",
    "data = pd.read_csv('channel_cost_clean4.csv', skipinitialspace=True,\n",
    "                   low_memory=False)"
   ]
  },
  {
   "cell_type": "markdown",
   "metadata": {},
   "source": [
    "Convert 'Date' to 'Week','Month', and 'Year'"
   ]
  },
  {
   "cell_type": "code",
   "execution_count": 454,
   "metadata": {
    "collapsed": false
   },
   "outputs": [],
   "source": [
    "data['Date'] = pd.to_datetime(data['Date'])\n",
    "data.set_index('Date', inplace=True)\n",
    "\n",
    "data['Year'] = data.index.year\n",
    "data['Month'] = data.index.month\n",
    "data['Week'] = data.index.week"
   ]
  },
  {
   "cell_type": "code",
   "execution_count": 455,
   "metadata": {
    "collapsed": false
   },
   "outputs": [
    {
     "name": "stdout",
     "output_type": "stream",
     "text": [
      "            FTAdWords  FTBing  FTEmail  FTEvent  FTFacebook  FTInfluencer  \\\n",
      "Date                                                                        \n",
      "2016-04-24        NaN     NaN       71      NaN         271             3   \n",
      "2016-05-01        NaN     NaN        7      NaN         912             3   \n",
      "2016-05-08        NaN     NaN       21      0.0        1621            19   \n",
      "2016-05-15        NaN     NaN        9      0.0        3398            17   \n",
      "2016-05-22        NaN     NaN       26      0.0        2306            54   \n",
      "\n",
      "            FTInstagram  FTOrganic  FTPartner  FTSnapchat  ...   TwitterConv  \\\n",
      "Date                                                       ...                 \n",
      "2016-04-24           59      11121        NaN         NaN  ...          1.00   \n",
      "2016-05-01          291       3311        NaN       157.0  ...          0.40   \n",
      "2016-05-08         1097       3434        NaN       146.0  ...          0.72   \n",
      "2016-05-15         1536       3678        NaN       148.0  ...          0.00   \n",
      "2016-05-22          790       2091        NaN       120.0  ...          0.00   \n",
      "\n",
      "            YouTubeConv  CatAdWords  CatFacebook  CatInstagram  CatSnapchat  \\\n",
      "Date                                                                          \n",
      "2016-04-24          0.0           0            0             0            0   \n",
      "2016-05-01          0.0           0            0             0            0   \n",
      "2016-05-08          0.0           0            0             0            0   \n",
      "2016-05-15          0.0           0            0             0            0   \n",
      "2016-05-22          0.0           0            0             0            0   \n",
      "\n",
      "            CatYouTube  Year  Month  Week  \n",
      "Date                                       \n",
      "2016-04-24           0  2016      4    16  \n",
      "2016-05-01           0  2016      5    17  \n",
      "2016-05-08           0  2016      5    18  \n",
      "2016-05-15           0  2016      5    19  \n",
      "2016-05-22           0  2016      5    20  \n",
      "\n",
      "[5 rows x 56 columns]\n"
     ]
    }
   ],
   "source": [
    "print data.head()"
   ]
  },
  {
   "cell_type": "code",
   "execution_count": 456,
   "metadata": {
    "collapsed": false
   },
   "outputs": [
    {
     "data": {
      "text/plain": [
       "FTAdWords          55\n",
       "FTBing             43\n",
       "FTEmail            61\n",
       "FTEvent            59\n",
       "FTFacebook         61\n",
       "FTInfluencer       61\n",
       "FTInstagram        61\n",
       "FTOrganic          61\n",
       "FTPartner          32\n",
       "FTSnapchat         60\n",
       "FTTwitter          29\n",
       "FTYouTube          53\n",
       "PSAdWords          54\n",
       "PSBing             19\n",
       "PSEmail            60\n",
       "PSEvent            25\n",
       "PSFacebook         61\n",
       "PSInfluencer       61\n",
       "PSInstagram        61\n",
       "PSOrganic          61\n",
       "PSPartner           6\n",
       "PSSnapchat         59\n",
       "PSTwitter           4\n",
       "PSYouTube          52\n",
       "AdWordsSpend       36\n",
       "BingSpend          13\n",
       "EmailSpend          0\n",
       "EventSpend          0\n",
       "FacebookSpend      46\n",
       "InfluencerSpend     0\n",
       "InstagramSpend     46\n",
       "OrganicSpend        0\n",
       "PartnerSpend        0\n",
       "SnapchatSpend      46\n",
       "TwitterSpend        3\n",
       "YouTubeSpend       40\n",
       "AdWordsConv        61\n",
       "BingConv           61\n",
       "EmailConv          61\n",
       "EvenConv           61\n",
       "FacebookConv       61\n",
       "InfluencerConv     61\n",
       "InstagramConv      61\n",
       "OrganicConv        61\n",
       "PartnerConv        61\n",
       "SnapchatConv       61\n",
       "TwitterConv        61\n",
       "YouTubeConv        61\n",
       "CatAdWords         61\n",
       "CatFacebook        61\n",
       "CatInstagram       61\n",
       "CatSnapchat        61\n",
       "CatYouTube         61\n",
       "Year               61\n",
       "Month              61\n",
       "Week               61\n",
       "dtype: int64"
      ]
     },
     "execution_count": 456,
     "metadata": {},
     "output_type": "execute_result"
    }
   ],
   "source": [
    "data.count()"
   ]
  },
  {
   "cell_type": "code",
   "execution_count": 457,
   "metadata": {
    "collapsed": false
   },
   "outputs": [
    {
     "data": {
      "text/html": [
       "<div>\n",
       "<table border=\"1\" class=\"dataframe\">\n",
       "  <thead>\n",
       "    <tr style=\"text-align: right;\">\n",
       "      <th></th>\n",
       "      <th>FTAdWords</th>\n",
       "      <th>FTBing</th>\n",
       "      <th>FTEmail</th>\n",
       "      <th>FTEvent</th>\n",
       "      <th>FTFacebook</th>\n",
       "      <th>FTInfluencer</th>\n",
       "      <th>FTInstagram</th>\n",
       "      <th>FTOrganic</th>\n",
       "      <th>FTPartner</th>\n",
       "      <th>FTSnapchat</th>\n",
       "      <th>...</th>\n",
       "      <th>TwitterConv</th>\n",
       "      <th>YouTubeConv</th>\n",
       "      <th>CatAdWords</th>\n",
       "      <th>CatFacebook</th>\n",
       "      <th>CatInstagram</th>\n",
       "      <th>CatSnapchat</th>\n",
       "      <th>CatYouTube</th>\n",
       "      <th>Year</th>\n",
       "      <th>Month</th>\n",
       "      <th>Week</th>\n",
       "    </tr>\n",
       "  </thead>\n",
       "  <tbody>\n",
       "    <tr>\n",
       "      <th>count</th>\n",
       "      <td>55.000000</td>\n",
       "      <td>43.000000</td>\n",
       "      <td>61.000000</td>\n",
       "      <td>59.000000</td>\n",
       "      <td>61.000000</td>\n",
       "      <td>61.000000</td>\n",
       "      <td>61.000000</td>\n",
       "      <td>61.000000</td>\n",
       "      <td>32.000000</td>\n",
       "      <td>60.000000</td>\n",
       "      <td>...</td>\n",
       "      <td>61.000000</td>\n",
       "      <td>61.000000</td>\n",
       "      <td>61.000000</td>\n",
       "      <td>61.000000</td>\n",
       "      <td>61.000000</td>\n",
       "      <td>61.000000</td>\n",
       "      <td>61.000000</td>\n",
       "      <td>61.000000</td>\n",
       "      <td>61.000000</td>\n",
       "      <td>61.000000</td>\n",
       "    </tr>\n",
       "    <tr>\n",
       "      <th>mean</th>\n",
       "      <td>219.418182</td>\n",
       "      <td>6.372093</td>\n",
       "      <td>10.459016</td>\n",
       "      <td>1.372881</td>\n",
       "      <td>1276.754098</td>\n",
       "      <td>536.032787</td>\n",
       "      <td>934.065574</td>\n",
       "      <td>4149.327869</td>\n",
       "      <td>1.906250</td>\n",
       "      <td>826.350000</td>\n",
       "      <td>...</td>\n",
       "      <td>0.034754</td>\n",
       "      <td>0.324262</td>\n",
       "      <td>0.131148</td>\n",
       "      <td>0.229508</td>\n",
       "      <td>0.229508</td>\n",
       "      <td>0.180328</td>\n",
       "      <td>0.131148</td>\n",
       "      <td>2016.409836</td>\n",
       "      <td>6.245902</td>\n",
       "      <td>25.540984</td>\n",
       "    </tr>\n",
       "    <tr>\n",
       "      <th>std</th>\n",
       "      <td>163.089125</td>\n",
       "      <td>9.198921</td>\n",
       "      <td>11.420119</td>\n",
       "      <td>2.007729</td>\n",
       "      <td>1109.724420</td>\n",
       "      <td>511.784198</td>\n",
       "      <td>1720.611847</td>\n",
       "      <td>1722.882630</td>\n",
       "      <td>8.818453</td>\n",
       "      <td>1235.112783</td>\n",
       "      <td>...</td>\n",
       "      <td>0.163540</td>\n",
       "      <td>0.199628</td>\n",
       "      <td>0.340363</td>\n",
       "      <td>0.424006</td>\n",
       "      <td>0.424006</td>\n",
       "      <td>0.387651</td>\n",
       "      <td>0.340363</td>\n",
       "      <td>0.495885</td>\n",
       "      <td>3.254001</td>\n",
       "      <td>14.199265</td>\n",
       "    </tr>\n",
       "    <tr>\n",
       "      <th>min</th>\n",
       "      <td>2.000000</td>\n",
       "      <td>0.000000</td>\n",
       "      <td>1.000000</td>\n",
       "      <td>0.000000</td>\n",
       "      <td>74.000000</td>\n",
       "      <td>3.000000</td>\n",
       "      <td>3.000000</td>\n",
       "      <td>1595.000000</td>\n",
       "      <td>0.000000</td>\n",
       "      <td>1.000000</td>\n",
       "      <td>...</td>\n",
       "      <td>0.000000</td>\n",
       "      <td>0.000000</td>\n",
       "      <td>0.000000</td>\n",
       "      <td>0.000000</td>\n",
       "      <td>0.000000</td>\n",
       "      <td>0.000000</td>\n",
       "      <td>0.000000</td>\n",
       "      <td>2016.000000</td>\n",
       "      <td>1.000000</td>\n",
       "      <td>1.000000</td>\n",
       "    </tr>\n",
       "    <tr>\n",
       "      <th>25%</th>\n",
       "      <td>78.000000</td>\n",
       "      <td>0.000000</td>\n",
       "      <td>3.000000</td>\n",
       "      <td>0.000000</td>\n",
       "      <td>232.000000</td>\n",
       "      <td>179.000000</td>\n",
       "      <td>36.000000</td>\n",
       "      <td>3266.000000</td>\n",
       "      <td>0.000000</td>\n",
       "      <td>16.500000</td>\n",
       "      <td>...</td>\n",
       "      <td>0.000000</td>\n",
       "      <td>0.230000</td>\n",
       "      <td>0.000000</td>\n",
       "      <td>0.000000</td>\n",
       "      <td>0.000000</td>\n",
       "      <td>0.000000</td>\n",
       "      <td>0.000000</td>\n",
       "      <td>2016.000000</td>\n",
       "      <td>4.000000</td>\n",
       "      <td>16.000000</td>\n",
       "    </tr>\n",
       "    <tr>\n",
       "      <th>50%</th>\n",
       "      <td>203.000000</td>\n",
       "      <td>0.000000</td>\n",
       "      <td>7.000000</td>\n",
       "      <td>1.000000</td>\n",
       "      <td>1231.000000</td>\n",
       "      <td>326.000000</td>\n",
       "      <td>490.000000</td>\n",
       "      <td>3678.000000</td>\n",
       "      <td>0.000000</td>\n",
       "      <td>152.500000</td>\n",
       "      <td>...</td>\n",
       "      <td>0.000000</td>\n",
       "      <td>0.400000</td>\n",
       "      <td>0.000000</td>\n",
       "      <td>0.000000</td>\n",
       "      <td>0.000000</td>\n",
       "      <td>0.000000</td>\n",
       "      <td>0.000000</td>\n",
       "      <td>2016.000000</td>\n",
       "      <td>6.000000</td>\n",
       "      <td>23.000000</td>\n",
       "    </tr>\n",
       "    <tr>\n",
       "      <th>75%</th>\n",
       "      <td>352.000000</td>\n",
       "      <td>12.500000</td>\n",
       "      <td>12.000000</td>\n",
       "      <td>2.000000</td>\n",
       "      <td>1958.000000</td>\n",
       "      <td>820.000000</td>\n",
       "      <td>1043.000000</td>\n",
       "      <td>4808.000000</td>\n",
       "      <td>0.000000</td>\n",
       "      <td>1250.750000</td>\n",
       "      <td>...</td>\n",
       "      <td>0.000000</td>\n",
       "      <td>0.460000</td>\n",
       "      <td>0.000000</td>\n",
       "      <td>0.000000</td>\n",
       "      <td>0.000000</td>\n",
       "      <td>0.000000</td>\n",
       "      <td>0.000000</td>\n",
       "      <td>2017.000000</td>\n",
       "      <td>9.000000</td>\n",
       "      <td>37.000000</td>\n",
       "    </tr>\n",
       "    <tr>\n",
       "      <th>max</th>\n",
       "      <td>659.000000</td>\n",
       "      <td>28.000000</td>\n",
       "      <td>71.000000</td>\n",
       "      <td>12.000000</td>\n",
       "      <td>5052.000000</td>\n",
       "      <td>2191.000000</td>\n",
       "      <td>10978.000000</td>\n",
       "      <td>11121.000000</td>\n",
       "      <td>50.000000</td>\n",
       "      <td>5155.000000</td>\n",
       "      <td>...</td>\n",
       "      <td>1.000000</td>\n",
       "      <td>0.680000</td>\n",
       "      <td>1.000000</td>\n",
       "      <td>1.000000</td>\n",
       "      <td>1.000000</td>\n",
       "      <td>1.000000</td>\n",
       "      <td>1.000000</td>\n",
       "      <td>2017.000000</td>\n",
       "      <td>12.000000</td>\n",
       "      <td>52.000000</td>\n",
       "    </tr>\n",
       "  </tbody>\n",
       "</table>\n",
       "<p>8 rows × 56 columns</p>\n",
       "</div>"
      ],
      "text/plain": [
       "        FTAdWords     FTBing    FTEmail    FTEvent   FTFacebook  FTInfluencer  \\\n",
       "count   55.000000  43.000000  61.000000  59.000000    61.000000     61.000000   \n",
       "mean   219.418182   6.372093  10.459016   1.372881  1276.754098    536.032787   \n",
       "std    163.089125   9.198921  11.420119   2.007729  1109.724420    511.784198   \n",
       "min      2.000000   0.000000   1.000000   0.000000    74.000000      3.000000   \n",
       "25%     78.000000   0.000000   3.000000   0.000000   232.000000    179.000000   \n",
       "50%    203.000000   0.000000   7.000000   1.000000  1231.000000    326.000000   \n",
       "75%    352.000000  12.500000  12.000000   2.000000  1958.000000    820.000000   \n",
       "max    659.000000  28.000000  71.000000  12.000000  5052.000000   2191.000000   \n",
       "\n",
       "        FTInstagram     FTOrganic  FTPartner   FTSnapchat    ...      \\\n",
       "count     61.000000     61.000000  32.000000    60.000000    ...       \n",
       "mean     934.065574   4149.327869   1.906250   826.350000    ...       \n",
       "std     1720.611847   1722.882630   8.818453  1235.112783    ...       \n",
       "min        3.000000   1595.000000   0.000000     1.000000    ...       \n",
       "25%       36.000000   3266.000000   0.000000    16.500000    ...       \n",
       "50%      490.000000   3678.000000   0.000000   152.500000    ...       \n",
       "75%     1043.000000   4808.000000   0.000000  1250.750000    ...       \n",
       "max    10978.000000  11121.000000  50.000000  5155.000000    ...       \n",
       "\n",
       "       TwitterConv  YouTubeConv  CatAdWords  CatFacebook  CatInstagram  \\\n",
       "count    61.000000    61.000000   61.000000    61.000000     61.000000   \n",
       "mean      0.034754     0.324262    0.131148     0.229508      0.229508   \n",
       "std       0.163540     0.199628    0.340363     0.424006      0.424006   \n",
       "min       0.000000     0.000000    0.000000     0.000000      0.000000   \n",
       "25%       0.000000     0.230000    0.000000     0.000000      0.000000   \n",
       "50%       0.000000     0.400000    0.000000     0.000000      0.000000   \n",
       "75%       0.000000     0.460000    0.000000     0.000000      0.000000   \n",
       "max       1.000000     0.680000    1.000000     1.000000      1.000000   \n",
       "\n",
       "       CatSnapchat  CatYouTube         Year      Month       Week  \n",
       "count    61.000000   61.000000    61.000000  61.000000  61.000000  \n",
       "mean      0.180328    0.131148  2016.409836   6.245902  25.540984  \n",
       "std       0.387651    0.340363     0.495885   3.254001  14.199265  \n",
       "min       0.000000    0.000000  2016.000000   1.000000   1.000000  \n",
       "25%       0.000000    0.000000  2016.000000   4.000000  16.000000  \n",
       "50%       0.000000    0.000000  2016.000000   6.000000  23.000000  \n",
       "75%       0.000000    0.000000  2017.000000   9.000000  37.000000  \n",
       "max       1.000000    1.000000  2017.000000  12.000000  52.000000  \n",
       "\n",
       "[8 rows x 56 columns]"
      ]
     },
     "execution_count": 457,
     "metadata": {},
     "output_type": "execute_result"
    }
   ],
   "source": [
    "data.describe()"
   ]
  },
  {
   "cell_type": "markdown",
   "metadata": {},
   "source": [
    "## Channel: AdWords"
   ]
  },
  {
   "cell_type": "code",
   "execution_count": 458,
   "metadata": {
    "collapsed": false
   },
   "outputs": [
    {
     "name": "stdout",
     "output_type": "stream",
     "text": [
      "        FTAdWords   PSAdWords  AdWordsSpend  AdWordsConv  CatAdWords  \\\n",
      "count   28.000000   28.000000     28.000000    28.000000   28.000000   \n",
      "mean   274.428571  171.392857  16696.821429     0.633929    0.214286   \n",
      "std    143.553430   89.477636  12449.072689     0.125354    0.417855   \n",
      "min     44.000000   39.000000   1563.000000     0.340000    0.000000   \n",
      "25%    179.000000  100.250000   3495.750000     0.607500    0.000000   \n",
      "50%    248.500000  157.500000  13074.500000     0.650000    0.000000   \n",
      "75%    379.500000  243.500000  27134.500000     0.672500    0.000000   \n",
      "max    659.000000  345.000000  40701.000000     0.900000    1.000000   \n",
      "\n",
      "         FTOrganic    PSOrganic       Week  \n",
      "count    28.000000    28.000000  28.000000  \n",
      "mean   3594.214286  1731.464286  32.107143  \n",
      "std    1175.725508   535.660927   8.659567  \n",
      "min    1595.000000   793.000000  17.000000  \n",
      "25%    2691.500000  1421.500000  23.750000  \n",
      "50%    3438.000000  1742.000000  32.500000  \n",
      "75%    4516.750000  1975.000000  39.250000  \n",
      "max    5523.000000  3198.000000  46.000000  \n"
     ]
    }
   ],
   "source": [
    "# Create AdWords data frame. Exclude outliers and drop null.\n",
    "adwords_data = data.ix[:, ['FTAdWords', 'PSAdWords','AdWordsSpend','AdWordsConv','CatAdWords','FTOrganic', 'PSOrganic','Week']]\n",
    "\n",
    "adwords_data= adwords_data.loc[adwords_data.FTAdWords < 1200]\n",
    "adwords_data= adwords_data.loc[adwords_data.FTOrganic < 6000]\n",
    "\n",
    "adwords_data.dropna()\n",
    "adwords_nonnull=adwords_data.dropna()\n",
    "adwords_nonnull.describe()\n",
    "print (adwords_nonnull.describe())\n"
   ]
  },
  {
   "cell_type": "code",
   "execution_count": 469,
   "metadata": {
    "collapsed": false
   },
   "outputs": [
    {
     "data": {
      "text/html": [
       "<table class=\"simpletable\">\n",
       "<caption>OLS Regression Results</caption>\n",
       "<tr>\n",
       "  <th>Dep. Variable:</th>        <td>PSAdWords</td>    <th>  R-squared:         </th> <td>   0.250</td>\n",
       "</tr>\n",
       "<tr>\n",
       "  <th>Model:</th>                   <td>OLS</td>       <th>  Adj. R-squared:    </th> <td>   0.221</td>\n",
       "</tr>\n",
       "<tr>\n",
       "  <th>Method:</th>             <td>Least Squares</td>  <th>  F-statistic:       </th> <td>   8.653</td>\n",
       "</tr>\n",
       "<tr>\n",
       "  <th>Date:</th>             <td>Mon, 10 Jul 2017</td> <th>  Prob (F-statistic):</th>  <td>0.00678</td>\n",
       "</tr>\n",
       "<tr>\n",
       "  <th>Time:</th>                 <td>09:06:11</td>     <th>  Log-Likelihood:    </th> <td> -161.03</td>\n",
       "</tr>\n",
       "<tr>\n",
       "  <th>No. Observations:</th>      <td>    28</td>      <th>  AIC:               </th> <td>   326.1</td>\n",
       "</tr>\n",
       "<tr>\n",
       "  <th>Df Residuals:</th>          <td>    26</td>      <th>  BIC:               </th> <td>   328.7</td>\n",
       "</tr>\n",
       "<tr>\n",
       "  <th>Df Model:</th>              <td>     1</td>      <th>                     </th>     <td> </td>   \n",
       "</tr>\n",
       "<tr>\n",
       "  <th>Covariance Type:</th>      <td>nonrobust</td>    <th>                     </th>     <td> </td>   \n",
       "</tr>\n",
       "</table>\n",
       "<table class=\"simpletable\">\n",
       "<tr>\n",
       "        <td></td>          <th>coef</th>     <th>std err</th>      <th>t</th>      <th>P>|t|</th> <th>[95.0% Conf. Int.]</th> \n",
       "</tr>\n",
       "<tr>\n",
       "  <th>Intercept</th>    <td>  111.4248</td> <td>   25.267</td> <td>    4.410</td> <td> 0.000</td> <td>   59.489   163.361</td>\n",
       "</tr>\n",
       "<tr>\n",
       "  <th>AdWordsSpend</th> <td>    0.0036</td> <td>    0.001</td> <td>    2.942</td> <td> 0.007</td> <td>    0.001     0.006</td>\n",
       "</tr>\n",
       "</table>\n",
       "<table class=\"simpletable\">\n",
       "<tr>\n",
       "  <th>Omnibus:</th>       <td> 4.741</td> <th>  Durbin-Watson:     </th> <td>   0.736</td>\n",
       "</tr>\n",
       "<tr>\n",
       "  <th>Prob(Omnibus):</th> <td> 0.093</td> <th>  Jarque-Bera (JB):  </th> <td>   4.221</td>\n",
       "</tr>\n",
       "<tr>\n",
       "  <th>Skew:</th>          <td> 0.936</td> <th>  Prob(JB):          </th> <td>   0.121</td>\n",
       "</tr>\n",
       "<tr>\n",
       "  <th>Kurtosis:</th>      <td> 2.662</td> <th>  Cond. No.          </th> <td>3.50e+04</td>\n",
       "</tr>\n",
       "</table>"
      ],
      "text/plain": [
       "<class 'statsmodels.iolib.summary.Summary'>\n",
       "\"\"\"\n",
       "                            OLS Regression Results                            \n",
       "==============================================================================\n",
       "Dep. Variable:              PSAdWords   R-squared:                       0.250\n",
       "Model:                            OLS   Adj. R-squared:                  0.221\n",
       "Method:                 Least Squares   F-statistic:                     8.653\n",
       "Date:                Mon, 10 Jul 2017   Prob (F-statistic):            0.00678\n",
       "Time:                        09:06:11   Log-Likelihood:                -161.03\n",
       "No. Observations:                  28   AIC:                             326.1\n",
       "Df Residuals:                      26   BIC:                             328.7\n",
       "Df Model:                           1                                         \n",
       "Covariance Type:            nonrobust                                         \n",
       "================================================================================\n",
       "                   coef    std err          t      P>|t|      [95.0% Conf. Int.]\n",
       "--------------------------------------------------------------------------------\n",
       "Intercept      111.4248     25.267      4.410      0.000        59.489   163.361\n",
       "AdWordsSpend     0.0036      0.001      2.942      0.007         0.001     0.006\n",
       "==============================================================================\n",
       "Omnibus:                        4.741   Durbin-Watson:                   0.736\n",
       "Prob(Omnibus):                  0.093   Jarque-Bera (JB):                4.221\n",
       "Skew:                           0.936   Prob(JB):                        0.121\n",
       "Kurtosis:                       2.662   Cond. No.                     3.50e+04\n",
       "==============================================================================\n",
       "\n",
       "Warnings:\n",
       "[1] Standard Errors assume that the covariance matrix of the errors is correctly specified.\n",
       "[2] The condition number is large, 3.5e+04. This might indicate that there are\n",
       "strong multicollinearity or other numerical problems.\n",
       "\"\"\""
      ]
     },
     "execution_count": 469,
     "metadata": {},
     "output_type": "execute_result"
    }
   ],
   "source": [
    "#Looking At AdWords Spend Effects Pay Subs\n",
    "import statsmodels.formula.api as smf\n",
    "lm_adwords = smf.ols(formula='PSAdWords ~ AdWordsSpend', data=adwords_nonnull).fit()\n",
    "#print the full summary\n",
    "lm_adwords.summary()"
   ]
  },
  {
   "cell_type": "code",
   "execution_count": 470,
   "metadata": {
    "collapsed": false
   },
   "outputs": [
    {
     "data": {
      "text/plain": [
       "array([ 291.00400066])"
      ]
     },
     "execution_count": 470,
     "metadata": {},
     "output_type": "execute_result"
    }
   ],
   "source": [
    "# Predict Pay Subs Given Different Spend Amount\n",
    "\n",
    "X_new_psadwords = pd.DataFrame({'AdWordsSpend': [50000]})\n",
    "X_new_psadwords.head()\n",
    "lm_adwords.predict(X_new_psadwords)"
   ]
  },
  {
   "cell_type": "code",
   "execution_count": null,
   "metadata": {
    "collapsed": true
   },
   "outputs": [],
   "source": [
    "'''from sklearn import feature_selection, linear_model\n",
    "\n",
    "def get_linear_model_metrics(X, y, algo):\n",
    "    # get the pvalue of X given y. Ignore f-stat for now.\n",
    "    pvals = feature_selection.f_regression(X, y)[1]\n",
    "    # start with an empty linear regression object\n",
    "    # .fit() runs the linear regression function on X and y\n",
    "    algo.fit(X,y)\n",
    "    residuals = (y-algo.predict(X)).values\n",
    "\n",
    "    # print the necessary values\n",
    "    print 'P Values:', pvals\n",
    "    print 'Coefficients:', algo.coef_\n",
    "    print 'y-intercept:', algo.intercept_\n",
    "    print 'R-Squared:', algo.score(X,y)\n",
    "    plt.figure()\n",
    "    plt.hist(residuals, bins=np.ceil(np.sqrt(len(y))))\n",
    "    # keep the model\n",
    "    return algo\n",
    "\n",
    "X = adwords_nonnull[['AdWordsSpend']]\n",
    "y = adwords_nonnull['PSAdWords']\n",
    "lm_adwords = linear_model.LinearRegression()\n",
    "lm_adwords.fit = get_linear_model_metrics(X, y, lm)\n",
    "\n",
    "#lm_adwords = linear_model.LinearRegression()\n",
    "#lm_adwords.fit(your training data for adwords)'''"
   ]
  },
  {
   "cell_type": "markdown",
   "metadata": {
    "collapsed": true
   },
   "source": [
    "## Channel: Facebook"
   ]
  },
  {
   "cell_type": "code",
   "execution_count": 464,
   "metadata": {
    "collapsed": false
   },
   "outputs": [
    {
     "name": "stdout",
     "output_type": "stream",
     "text": [
      "        FTFacebook   PSFacebook  FacebookSpend  FacebookConv    FTOrganic  \\\n",
      "count    40.000000    40.000000      40.000000     40.000000    40.000000   \n",
      "mean   1538.450000   768.075000   81663.425000      0.509000  3699.600000   \n",
      "std     796.267509   428.595344   44788.384173      0.137893  1173.655014   \n",
      "min      91.000000    49.000000     843.000000      0.240000  1595.000000   \n",
      "25%     979.500000   431.000000   57226.250000      0.430000  2800.750000   \n",
      "50%    1603.000000   814.500000   87348.500000      0.495000  3570.000000   \n",
      "75%    2124.000000  1036.500000  107996.500000      0.612500  4716.000000   \n",
      "max    3398.000000  1774.000000  159965.000000      0.950000  5905.000000   \n",
      "\n",
      "         PSOrganic       Week  \n",
      "count    40.000000  40.000000  \n",
      "mean   1879.850000  28.050000  \n",
      "std     646.141191  10.803489  \n",
      "min     793.000000  11.000000  \n",
      "25%    1498.250000  19.750000  \n",
      "50%    1810.500000  26.000000  \n",
      "75%    2068.000000  37.250000  \n",
      "max    3451.000000  47.000000  \n"
     ]
    }
   ],
   "source": [
    "# Create Facebook data frame. Exclude outliers and drop null.\n",
    "facebook_data = data.ix[:, ['FTFacebook', 'PSFacebook','FacebookSpend', 'FacebookConv','FTOrganic', 'PSOrganic','Week']]\n",
    "\n",
    "facebook_data= facebook_data.loc[facebook_data.FTFacebook < 4000]\n",
    "facebook_data= facebook_data.loc[facebook_data.FTOrganic < 6000]\n",
    "\n",
    "facebook_data.dropna()\n",
    "facebook_nonnull=facebook_data.dropna()\n",
    "facebook_nonnull.describe()\n",
    "print (facebook_nonnull.describe())\n"
   ]
  },
  {
   "cell_type": "code",
   "execution_count": 467,
   "metadata": {
    "collapsed": false
   },
   "outputs": [
    {
     "data": {
      "text/html": [
       "<table class=\"simpletable\">\n",
       "<caption>OLS Regression Results</caption>\n",
       "<tr>\n",
       "  <th>Dep. Variable:</th>       <td>PSFacebook</td>    <th>  R-squared:         </th> <td>   0.712</td>\n",
       "</tr>\n",
       "<tr>\n",
       "  <th>Model:</th>                   <td>OLS</td>       <th>  Adj. R-squared:    </th> <td>   0.704</td>\n",
       "</tr>\n",
       "<tr>\n",
       "  <th>Method:</th>             <td>Least Squares</td>  <th>  F-statistic:       </th> <td>   93.91</td>\n",
       "</tr>\n",
       "<tr>\n",
       "  <th>Date:</th>             <td>Mon, 10 Jul 2017</td> <th>  Prob (F-statistic):</th> <td>8.11e-12</td>\n",
       "</tr>\n",
       "<tr>\n",
       "  <th>Time:</th>                 <td>09:05:52</td>     <th>  Log-Likelihood:    </th> <td> -273.78</td>\n",
       "</tr>\n",
       "<tr>\n",
       "  <th>No. Observations:</th>      <td>    40</td>      <th>  AIC:               </th> <td>   551.6</td>\n",
       "</tr>\n",
       "<tr>\n",
       "  <th>Df Residuals:</th>          <td>    38</td>      <th>  BIC:               </th> <td>   554.9</td>\n",
       "</tr>\n",
       "<tr>\n",
       "  <th>Df Model:</th>              <td>     1</td>      <th>                     </th>     <td> </td>   \n",
       "</tr>\n",
       "<tr>\n",
       "  <th>Covariance Type:</th>      <td>nonrobust</td>    <th>                     </th>     <td> </td>   \n",
       "</tr>\n",
       "</table>\n",
       "<table class=\"simpletable\">\n",
       "<tr>\n",
       "        <td></td>           <th>coef</th>     <th>std err</th>      <th>t</th>      <th>P>|t|</th> <th>[95.0% Conf. Int.]</th> \n",
       "</tr>\n",
       "<tr>\n",
       "  <th>Intercept</th>     <td>  108.7074</td> <td>   77.377</td> <td>    1.405</td> <td> 0.168</td> <td>  -47.935   265.350</td>\n",
       "</tr>\n",
       "<tr>\n",
       "  <th>FacebookSpend</th> <td>    0.0081</td> <td>    0.001</td> <td>    9.691</td> <td> 0.000</td> <td>    0.006     0.010</td>\n",
       "</tr>\n",
       "</table>\n",
       "<table class=\"simpletable\">\n",
       "<tr>\n",
       "  <th>Omnibus:</th>       <td> 1.324</td> <th>  Durbin-Watson:     </th> <td>   1.298</td>\n",
       "</tr>\n",
       "<tr>\n",
       "  <th>Prob(Omnibus):</th> <td> 0.516</td> <th>  Jarque-Bera (JB):  </th> <td>   0.614</td>\n",
       "</tr>\n",
       "<tr>\n",
       "  <th>Skew:</th>          <td> 0.270</td> <th>  Prob(JB):          </th> <td>   0.736</td>\n",
       "</tr>\n",
       "<tr>\n",
       "  <th>Kurtosis:</th>      <td> 3.277</td> <th>  Cond. No.          </th> <td>1.95e+05</td>\n",
       "</tr>\n",
       "</table>"
      ],
      "text/plain": [
       "<class 'statsmodels.iolib.summary.Summary'>\n",
       "\"\"\"\n",
       "                            OLS Regression Results                            \n",
       "==============================================================================\n",
       "Dep. Variable:             PSFacebook   R-squared:                       0.712\n",
       "Model:                            OLS   Adj. R-squared:                  0.704\n",
       "Method:                 Least Squares   F-statistic:                     93.91\n",
       "Date:                Mon, 10 Jul 2017   Prob (F-statistic):           8.11e-12\n",
       "Time:                        09:05:52   Log-Likelihood:                -273.78\n",
       "No. Observations:                  40   AIC:                             551.6\n",
       "Df Residuals:                      38   BIC:                             554.9\n",
       "Df Model:                           1                                         \n",
       "Covariance Type:            nonrobust                                         \n",
       "=================================================================================\n",
       "                    coef    std err          t      P>|t|      [95.0% Conf. Int.]\n",
       "---------------------------------------------------------------------------------\n",
       "Intercept       108.7074     77.377      1.405      0.168       -47.935   265.350\n",
       "FacebookSpend     0.0081      0.001      9.691      0.000         0.006     0.010\n",
       "==============================================================================\n",
       "Omnibus:                        1.324   Durbin-Watson:                   1.298\n",
       "Prob(Omnibus):                  0.516   Jarque-Bera (JB):                0.614\n",
       "Skew:                           0.270   Prob(JB):                        0.736\n",
       "Kurtosis:                       3.277   Cond. No.                     1.95e+05\n",
       "==============================================================================\n",
       "\n",
       "Warnings:\n",
       "[1] Standard Errors assume that the covariance matrix of the errors is correctly specified.\n",
       "[2] The condition number is large, 1.95e+05. This might indicate that there are\n",
       "strong multicollinearity or other numerical problems.\n",
       "\"\"\""
      ]
     },
     "execution_count": 467,
     "metadata": {},
     "output_type": "execute_result"
    }
   ],
   "source": [
    "#Looking At Facebook Spend Effects Pay Subs\n",
    "import statsmodels.formula.api as smf\n",
    "lm_facebook = smf.ols(formula='PSFacebook ~ FacebookSpend', data=facebook_nonnull).fit()\n",
    "#print the full summary\n",
    "lm_facebook.summary()"
   ]
  },
  {
   "cell_type": "code",
   "execution_count": 468,
   "metadata": {
    "collapsed": false
   },
   "outputs": [
    {
     "data": {
      "text/plain": [
       "array([ 512.41786893])"
      ]
     },
     "execution_count": 468,
     "metadata": {},
     "output_type": "execute_result"
    }
   ],
   "source": [
    "# Predict Free Trials Given Different Spend Amount\n",
    "X_new_psfacebook = pd.DataFrame({'FacebookSpend': [50000]})\n",
    "X_new_psfacebook.head()\n",
    "lm_facebook.predict(X_new_psfacebook)"
   ]
  },
  {
   "cell_type": "markdown",
   "metadata": {},
   "source": [
    "## Channel: Instagram"
   ]
  },
  {
   "cell_type": "code",
   "execution_count": 471,
   "metadata": {
    "collapsed": false
   },
   "outputs": [
    {
     "name": "stdout",
     "output_type": "stream",
     "text": [
      "       FTInstagram  PSInstagram  InstagramSpend  InstagramConv    FTOrganic  \\\n",
      "count    38.000000    38.000000       38.000000      38.000000    38.000000   \n",
      "mean    758.578947   308.052632    48957.263158       0.416053  3643.184211   \n",
      "std     480.333309   188.826525    32258.316097       0.070271  1166.200735   \n",
      "min      10.000000     5.000000      395.000000       0.270000  1595.000000   \n",
      "25%     361.250000   135.500000    23831.500000       0.380000  2738.250000   \n",
      "50%     800.000000   311.000000    50495.000000       0.405000  3472.500000   \n",
      "75%    1056.500000   428.250000    66042.500000       0.467500  4634.250000   \n",
      "max    1802.000000   664.000000   126093.000000       0.540000  5905.000000   \n",
      "\n",
      "         PSOrganic       Week  \n",
      "count    38.000000  38.000000  \n",
      "mean   1860.289474  28.026316  \n",
      "std     653.267046  11.090504  \n",
      "min     793.000000  11.000000  \n",
      "25%    1456.750000  19.250000  \n",
      "50%    1785.500000  24.000000  \n",
      "75%    2062.750000  37.750000  \n",
      "max    3451.000000  47.000000  \n"
     ]
    }
   ],
   "source": [
    "# Create Instagram data frame. Exclude outliers and drop null.\n",
    "instagram_data = data.ix[:, ['FTInstagram', 'PSInstagram', 'InstagramSpend','InstagramConv', 'FTOrganic', 'PSOrganic','Week']]\n",
    "\n",
    "instagram_data= instagram_data.loc[instagram_data.FTInstagram < 2000]\n",
    "instagram_data= instagram_data.loc[instagram_data.FTOrganic < 6000]\n",
    "\n",
    "instagram_data.dropna()\n",
    "instagram_nonnull=instagram_data.dropna()\n",
    "instagram_nonnull.describe()\n",
    "print (instagram_nonnull.describe())\n"
   ]
  },
  {
   "cell_type": "code",
   "execution_count": 472,
   "metadata": {
    "collapsed": false
   },
   "outputs": [
    {
     "data": {
      "text/html": [
       "<table class=\"simpletable\">\n",
       "<caption>OLS Regression Results</caption>\n",
       "<tr>\n",
       "  <th>Dep. Variable:</th>       <td>PSInstagram</td>   <th>  R-squared:         </th> <td>   0.802</td>\n",
       "</tr>\n",
       "<tr>\n",
       "  <th>Model:</th>                   <td>OLS</td>       <th>  Adj. R-squared:    </th> <td>   0.797</td>\n",
       "</tr>\n",
       "<tr>\n",
       "  <th>Method:</th>             <td>Least Squares</td>  <th>  F-statistic:       </th> <td>   145.9</td>\n",
       "</tr>\n",
       "<tr>\n",
       "  <th>Date:</th>             <td>Mon, 10 Jul 2017</td> <th>  Prob (F-statistic):</th> <td>3.18e-14</td>\n",
       "</tr>\n",
       "<tr>\n",
       "  <th>Time:</th>                 <td>09:06:38</td>     <th>  Log-Likelihood:    </th> <td> -221.79</td>\n",
       "</tr>\n",
       "<tr>\n",
       "  <th>No. Observations:</th>      <td>    38</td>      <th>  AIC:               </th> <td>   447.6</td>\n",
       "</tr>\n",
       "<tr>\n",
       "  <th>Df Residuals:</th>          <td>    36</td>      <th>  BIC:               </th> <td>   450.8</td>\n",
       "</tr>\n",
       "<tr>\n",
       "  <th>Df Model:</th>              <td>     1</td>      <th>                     </th>     <td> </td>   \n",
       "</tr>\n",
       "<tr>\n",
       "  <th>Covariance Type:</th>      <td>nonrobust</td>    <th>                     </th>     <td> </td>   \n",
       "</tr>\n",
       "</table>\n",
       "<table class=\"simpletable\">\n",
       "<tr>\n",
       "         <td></td>           <th>coef</th>     <th>std err</th>      <th>t</th>      <th>P>|t|</th> <th>[95.0% Conf. Int.]</th> \n",
       "</tr>\n",
       "<tr>\n",
       "  <th>Intercept</th>      <td>   51.3970</td> <td>   25.344</td> <td>    2.028</td> <td> 0.050</td> <td>   -0.004   102.798</td>\n",
       "</tr>\n",
       "<tr>\n",
       "  <th>InstagramSpend</th> <td>    0.0052</td> <td>    0.000</td> <td>   12.079</td> <td> 0.000</td> <td>    0.004     0.006</td>\n",
       "</tr>\n",
       "</table>\n",
       "<table class=\"simpletable\">\n",
       "<tr>\n",
       "  <th>Omnibus:</th>       <td> 8.358</td> <th>  Durbin-Watson:     </th> <td>   1.819</td>\n",
       "</tr>\n",
       "<tr>\n",
       "  <th>Prob(Omnibus):</th> <td> 0.015</td> <th>  Jarque-Bera (JB):  </th> <td>   7.105</td>\n",
       "</tr>\n",
       "<tr>\n",
       "  <th>Skew:</th>          <td> 0.907</td> <th>  Prob(JB):          </th> <td>  0.0286</td>\n",
       "</tr>\n",
       "<tr>\n",
       "  <th>Kurtosis:</th>      <td> 4.094</td> <th>  Cond. No.          </th> <td>1.07e+05</td>\n",
       "</tr>\n",
       "</table>"
      ],
      "text/plain": [
       "<class 'statsmodels.iolib.summary.Summary'>\n",
       "\"\"\"\n",
       "                            OLS Regression Results                            \n",
       "==============================================================================\n",
       "Dep. Variable:            PSInstagram   R-squared:                       0.802\n",
       "Model:                            OLS   Adj. R-squared:                  0.797\n",
       "Method:                 Least Squares   F-statistic:                     145.9\n",
       "Date:                Mon, 10 Jul 2017   Prob (F-statistic):           3.18e-14\n",
       "Time:                        09:06:38   Log-Likelihood:                -221.79\n",
       "No. Observations:                  38   AIC:                             447.6\n",
       "Df Residuals:                      36   BIC:                             450.8\n",
       "Df Model:                           1                                         \n",
       "Covariance Type:            nonrobust                                         \n",
       "==================================================================================\n",
       "                     coef    std err          t      P>|t|      [95.0% Conf. Int.]\n",
       "----------------------------------------------------------------------------------\n",
       "Intercept         51.3970     25.344      2.028      0.050        -0.004   102.798\n",
       "InstagramSpend     0.0052      0.000     12.079      0.000         0.004     0.006\n",
       "==============================================================================\n",
       "Omnibus:                        8.358   Durbin-Watson:                   1.819\n",
       "Prob(Omnibus):                  0.015   Jarque-Bera (JB):                7.105\n",
       "Skew:                           0.907   Prob(JB):                       0.0286\n",
       "Kurtosis:                       4.094   Cond. No.                     1.07e+05\n",
       "==============================================================================\n",
       "\n",
       "Warnings:\n",
       "[1] Standard Errors assume that the covariance matrix of the errors is correctly specified.\n",
       "[2] The condition number is large, 1.07e+05. This might indicate that there are\n",
       "strong multicollinearity or other numerical problems.\n",
       "\"\"\""
      ]
     },
     "execution_count": 472,
     "metadata": {},
     "output_type": "execute_result"
    }
   ],
   "source": [
    "#Looking At Instagram Spend Effects Pay Subs\n",
    "import statsmodels.formula.api as smf\n",
    "lm_instagram = smf.ols(formula='PSInstagram ~ InstagramSpend', data=instagram_nonnull).fit()\n",
    "#print the full summary\n",
    "lm_instagram.summary()"
   ]
  },
  {
   "cell_type": "code",
   "execution_count": 473,
   "metadata": {
    "collapsed": false
   },
   "outputs": [
    {
     "data": {
      "text/plain": [
       "array([ 313.51911873])"
      ]
     },
     "execution_count": 473,
     "metadata": {},
     "output_type": "execute_result"
    }
   ],
   "source": [
    "# Predict Free Trials Given Different Spend Amount\n",
    "X_new_psinstagram = pd.DataFrame({'InstagramSpend': [50000]})\n",
    "X_new_psinstagram.head()\n",
    "lm_instagram.predict(X_new_psinstagram)"
   ]
  },
  {
   "cell_type": "markdown",
   "metadata": {},
   "source": [
    "## Channel: Snapchat"
   ]
  },
  {
   "cell_type": "code",
   "execution_count": 474,
   "metadata": {
    "collapsed": false
   },
   "outputs": [
    {
     "name": "stdout",
     "output_type": "stream",
     "text": [
      "        FTSnapchat  PSSnapchat  SnapchatSpend  SnapchatConv    FTOrganic  \\\n",
      "count    36.000000   36.000000      36.000000     36.000000    36.000000   \n",
      "mean    588.805556  219.444444   46155.972222      0.450833  3518.416667   \n",
      "std     680.238270  240.449275   54210.843039      0.194207  1087.796866   \n",
      "min       4.000000    3.000000       0.000000      0.270000  1595.000000   \n",
      "25%      66.500000   23.000000       0.000000      0.365000  2691.500000   \n",
      "50%     235.000000   95.000000   24995.000000      0.400000  3399.500000   \n",
      "75%     976.750000  373.000000   79705.000000      0.440000  4230.000000   \n",
      "max    2171.000000  749.000000  171361.000000      1.130000  5905.000000   \n",
      "\n",
      "         PSOrganic       Week  \n",
      "count    36.000000  36.000000  \n",
      "mean   1796.444444  29.166667  \n",
      "std     525.990518  10.761041  \n",
      "min     793.000000  11.000000  \n",
      "25%    1498.250000  20.750000  \n",
      "50%    1785.500000  29.500000  \n",
      "75%    2062.000000  38.250000  \n",
      "max    3352.000000  47.000000  \n"
     ]
    }
   ],
   "source": [
    "# Create Snapchat data frame. Exclude outliers and drop null.\n",
    "\n",
    "snapchat_data = data.ix[:, ['FTSnapchat', 'PSSnapchat', 'SnapchatSpend', 'SnapchatConv', 'FTOrganic', 'PSOrganic','Week']]\n",
    "\n",
    "snapchat_data= snapchat_data.loc[snapchat_data.FTSnapchat < 4000]\n",
    "snapchat_data= snapchat_data.loc[snapchat_data.PSSnapchat < 1200]\n",
    "snapchat_data= snapchat_data.loc[snapchat_data.FTOrganic < 6000]\n",
    "\n",
    "\n",
    "snapchat_data.dropna()\n",
    "snapchat_nonnull=snapchat_data.dropna()\n",
    "snapchat_nonnull.describe()\n",
    "print (snapchat_nonnull.describe())\n"
   ]
  },
  {
   "cell_type": "code",
   "execution_count": 476,
   "metadata": {
    "collapsed": false
   },
   "outputs": [
    {
     "data": {
      "text/html": [
       "<table class=\"simpletable\">\n",
       "<caption>OLS Regression Results</caption>\n",
       "<tr>\n",
       "  <th>Dep. Variable:</th>       <td>PSSnapchat</td>    <th>  R-squared:         </th> <td>   0.248</td>\n",
       "</tr>\n",
       "<tr>\n",
       "  <th>Model:</th>                   <td>OLS</td>       <th>  Adj. R-squared:    </th> <td>   0.226</td>\n",
       "</tr>\n",
       "<tr>\n",
       "  <th>Method:</th>             <td>Least Squares</td>  <th>  F-statistic:       </th> <td>   11.21</td>\n",
       "</tr>\n",
       "<tr>\n",
       "  <th>Date:</th>             <td>Mon, 10 Jul 2017</td> <th>  Prob (F-statistic):</th>  <td>0.00200</td>\n",
       "</tr>\n",
       "<tr>\n",
       "  <th>Time:</th>                 <td>09:07:08</td>     <th>  Log-Likelihood:    </th> <td> -242.81</td>\n",
       "</tr>\n",
       "<tr>\n",
       "  <th>No. Observations:</th>      <td>    36</td>      <th>  AIC:               </th> <td>   489.6</td>\n",
       "</tr>\n",
       "<tr>\n",
       "  <th>Df Residuals:</th>          <td>    34</td>      <th>  BIC:               </th> <td>   492.8</td>\n",
       "</tr>\n",
       "<tr>\n",
       "  <th>Df Model:</th>              <td>     1</td>      <th>                     </th>     <td> </td>   \n",
       "</tr>\n",
       "<tr>\n",
       "  <th>Covariance Type:</th>      <td>nonrobust</td>    <th>                     </th>     <td> </td>   \n",
       "</tr>\n",
       "</table>\n",
       "<table class=\"simpletable\">\n",
       "<tr>\n",
       "        <td></td>           <th>coef</th>     <th>std err</th>      <th>t</th>      <th>P>|t|</th> <th>[95.0% Conf. Int.]</th> \n",
       "</tr>\n",
       "<tr>\n",
       "  <th>Intercept</th>     <td>  117.4919</td> <td>   46.585</td> <td>    2.522</td> <td> 0.017</td> <td>   22.819   212.164</td>\n",
       "</tr>\n",
       "<tr>\n",
       "  <th>SnapchatSpend</th> <td>    0.0022</td> <td>    0.001</td> <td>    3.349</td> <td> 0.002</td> <td>    0.001     0.004</td>\n",
       "</tr>\n",
       "</table>\n",
       "<table class=\"simpletable\">\n",
       "<tr>\n",
       "  <th>Omnibus:</th>       <td> 9.488</td> <th>  Durbin-Watson:     </th> <td>   0.542</td>\n",
       "</tr>\n",
       "<tr>\n",
       "  <th>Prob(Omnibus):</th> <td> 0.009</td> <th>  Jarque-Bera (JB):  </th> <td>   8.452</td>\n",
       "</tr>\n",
       "<tr>\n",
       "  <th>Skew:</th>          <td> 1.122</td> <th>  Prob(JB):          </th> <td>  0.0146</td>\n",
       "</tr>\n",
       "<tr>\n",
       "  <th>Kurtosis:</th>      <td> 3.774</td> <th>  Cond. No.          </th> <td>9.33e+04</td>\n",
       "</tr>\n",
       "</table>"
      ],
      "text/plain": [
       "<class 'statsmodels.iolib.summary.Summary'>\n",
       "\"\"\"\n",
       "                            OLS Regression Results                            \n",
       "==============================================================================\n",
       "Dep. Variable:             PSSnapchat   R-squared:                       0.248\n",
       "Model:                            OLS   Adj. R-squared:                  0.226\n",
       "Method:                 Least Squares   F-statistic:                     11.21\n",
       "Date:                Mon, 10 Jul 2017   Prob (F-statistic):            0.00200\n",
       "Time:                        09:07:08   Log-Likelihood:                -242.81\n",
       "No. Observations:                  36   AIC:                             489.6\n",
       "Df Residuals:                      34   BIC:                             492.8\n",
       "Df Model:                           1                                         \n",
       "Covariance Type:            nonrobust                                         \n",
       "=================================================================================\n",
       "                    coef    std err          t      P>|t|      [95.0% Conf. Int.]\n",
       "---------------------------------------------------------------------------------\n",
       "Intercept       117.4919     46.585      2.522      0.017        22.819   212.164\n",
       "SnapchatSpend     0.0022      0.001      3.349      0.002         0.001     0.004\n",
       "==============================================================================\n",
       "Omnibus:                        9.488   Durbin-Watson:                   0.542\n",
       "Prob(Omnibus):                  0.009   Jarque-Bera (JB):                8.452\n",
       "Skew:                           1.122   Prob(JB):                       0.0146\n",
       "Kurtosis:                       3.774   Cond. No.                     9.33e+04\n",
       "==============================================================================\n",
       "\n",
       "Warnings:\n",
       "[1] Standard Errors assume that the covariance matrix of the errors is correctly specified.\n",
       "[2] The condition number is large, 9.33e+04. This might indicate that there are\n",
       "strong multicollinearity or other numerical problems.\n",
       "\"\"\""
      ]
     },
     "execution_count": 476,
     "metadata": {},
     "output_type": "execute_result"
    }
   ],
   "source": [
    "#Looking At Snapchat Spend Effects Pay Subs\n",
    "import statsmodels.formula.api as smf\n",
    "lm_snapchat = smf.ols(formula='PSSnapchat ~ SnapchatSpend', data=snapchat_nonnull).fit()\n",
    "#print the full summary\n",
    "lm_snapchat.summary()"
   ]
  },
  {
   "cell_type": "code",
   "execution_count": 477,
   "metadata": {
    "collapsed": false
   },
   "outputs": [
    {
     "data": {
      "text/plain": [
       "array([ 227.93540229])"
      ]
     },
     "execution_count": 477,
     "metadata": {},
     "output_type": "execute_result"
    }
   ],
   "source": [
    "# Predict Pay Subs Given Different Spend Amount\n",
    "X_new_pssnapchat = pd.DataFrame({'SnapchatSpend': [50000]})\n",
    "X_new_pssnapchat.head()\n",
    "lm_snapchat.predict(X_new_pssnapchat)"
   ]
  },
  {
   "cell_type": "markdown",
   "metadata": {},
   "source": [
    "## Channel: YouTube"
   ]
  },
  {
   "cell_type": "code",
   "execution_count": 482,
   "metadata": {
    "collapsed": false
   },
   "outputs": [
    {
     "name": "stdout",
     "output_type": "stream",
     "text": [
      "        FTYouTube  PSYouTube  YouTubeSpend    FTOrganic    PSOrganic  \\\n",
      "count   25.000000  25.000000     25.000000    25.000000    25.000000   \n",
      "mean   102.080000  44.600000   5671.560000  3261.560000  1793.360000   \n",
      "std     59.165671  25.552234   3563.448378  1008.492732   553.969229   \n",
      "min      0.000000   1.000000    727.000000  1595.000000   793.000000   \n",
      "25%     60.000000  29.000000   2984.000000  2589.000000  1436.000000   \n",
      "50%    105.000000  46.000000   4438.000000  3257.000000  1815.000000   \n",
      "75%    134.000000  58.000000   8465.000000  3641.000000  2063.000000   \n",
      "max    239.000000  99.000000  12905.000000  5523.000000  3198.000000   \n",
      "\n",
      "            Week  \n",
      "count  25.000000  \n",
      "mean   37.880000  \n",
      "std     8.973665  \n",
      "min    17.000000  \n",
      "25%    32.000000  \n",
      "50%    38.000000  \n",
      "75%    45.000000  \n",
      "max    51.000000  \n"
     ]
    }
   ],
   "source": [
    "# Create YouTube data frame. Exclude outliers and drop null.\n",
    "\n",
    "youtube_data = data.ix[:, ['FTYouTube', 'PSYouTube', 'YouTubeSpend', 'FTOrganic', 'PSOrganic','Week']]\n",
    "youtube_data= youtube_data.loc[youtube_data.FTYouTube < 250]\n",
    "youtube_data= youtube_data.loc[youtube_data.PSYouTube < 200]\n",
    "youtube_data= youtube_data.loc[youtube_data.PSOrganic < 6000]\n",
    "\n",
    "youtube_data.dropna()\n",
    "youtube_nonnull=youtube_data.dropna()\n",
    "youtube_nonnull.describe()\n",
    "print (youtube_nonnull.describe())\n",
    "\n"
   ]
  },
  {
   "cell_type": "code",
   "execution_count": 483,
   "metadata": {
    "collapsed": false
   },
   "outputs": [
    {
     "data": {
      "text/html": [
       "<table class=\"simpletable\">\n",
       "<caption>OLS Regression Results</caption>\n",
       "<tr>\n",
       "  <th>Dep. Variable:</th>        <td>PSYouTube</td>    <th>  R-squared:         </th> <td>   0.407</td>\n",
       "</tr>\n",
       "<tr>\n",
       "  <th>Model:</th>                   <td>OLS</td>       <th>  Adj. R-squared:    </th> <td>   0.382</td>\n",
       "</tr>\n",
       "<tr>\n",
       "  <th>Method:</th>             <td>Least Squares</td>  <th>  F-statistic:       </th> <td>   15.81</td>\n",
       "</tr>\n",
       "<tr>\n",
       "  <th>Date:</th>             <td>Mon, 10 Jul 2017</td> <th>  Prob (F-statistic):</th> <td>0.000597</td>\n",
       "</tr>\n",
       "<tr>\n",
       "  <th>Time:</th>                 <td>09:09:07</td>     <th>  Log-Likelihood:    </th> <td> -109.44</td>\n",
       "</tr>\n",
       "<tr>\n",
       "  <th>No. Observations:</th>      <td>    25</td>      <th>  AIC:               </th> <td>   222.9</td>\n",
       "</tr>\n",
       "<tr>\n",
       "  <th>Df Residuals:</th>          <td>    23</td>      <th>  BIC:               </th> <td>   225.3</td>\n",
       "</tr>\n",
       "<tr>\n",
       "  <th>Df Model:</th>              <td>     1</td>      <th>                     </th>     <td> </td>   \n",
       "</tr>\n",
       "<tr>\n",
       "  <th>Covariance Type:</th>      <td>nonrobust</td>    <th>                     </th>     <td> </td>   \n",
       "</tr>\n",
       "</table>\n",
       "<table class=\"simpletable\">\n",
       "<tr>\n",
       "        <td></td>          <th>coef</th>     <th>std err</th>      <th>t</th>      <th>P>|t|</th> <th>[95.0% Conf. Int.]</th> \n",
       "</tr>\n",
       "<tr>\n",
       "  <th>Intercept</th>    <td>   18.6422</td> <td>    7.666</td> <td>    2.432</td> <td> 0.023</td> <td>    2.784    34.500</td>\n",
       "</tr>\n",
       "<tr>\n",
       "  <th>YouTubeSpend</th> <td>    0.0046</td> <td>    0.001</td> <td>    3.976</td> <td> 0.001</td> <td>    0.002     0.007</td>\n",
       "</tr>\n",
       "</table>\n",
       "<table class=\"simpletable\">\n",
       "<tr>\n",
       "  <th>Omnibus:</th>       <td> 0.749</td> <th>  Durbin-Watson:     </th> <td>   1.315</td>\n",
       "</tr>\n",
       "<tr>\n",
       "  <th>Prob(Omnibus):</th> <td> 0.687</td> <th>  Jarque-Bera (JB):  </th> <td>   0.214</td>\n",
       "</tr>\n",
       "<tr>\n",
       "  <th>Skew:</th>          <td> 0.221</td> <th>  Prob(JB):          </th> <td>   0.898</td>\n",
       "</tr>\n",
       "<tr>\n",
       "  <th>Kurtosis:</th>      <td> 3.102</td> <th>  Cond. No.          </th> <td>1.27e+04</td>\n",
       "</tr>\n",
       "</table>"
      ],
      "text/plain": [
       "<class 'statsmodels.iolib.summary.Summary'>\n",
       "\"\"\"\n",
       "                            OLS Regression Results                            \n",
       "==============================================================================\n",
       "Dep. Variable:              PSYouTube   R-squared:                       0.407\n",
       "Model:                            OLS   Adj. R-squared:                  0.382\n",
       "Method:                 Least Squares   F-statistic:                     15.81\n",
       "Date:                Mon, 10 Jul 2017   Prob (F-statistic):           0.000597\n",
       "Time:                        09:09:07   Log-Likelihood:                -109.44\n",
       "No. Observations:                  25   AIC:                             222.9\n",
       "Df Residuals:                      23   BIC:                             225.3\n",
       "Df Model:                           1                                         \n",
       "Covariance Type:            nonrobust                                         \n",
       "================================================================================\n",
       "                   coef    std err          t      P>|t|      [95.0% Conf. Int.]\n",
       "--------------------------------------------------------------------------------\n",
       "Intercept       18.6422      7.666      2.432      0.023         2.784    34.500\n",
       "YouTubeSpend     0.0046      0.001      3.976      0.001         0.002     0.007\n",
       "==============================================================================\n",
       "Omnibus:                        0.749   Durbin-Watson:                   1.315\n",
       "Prob(Omnibus):                  0.687   Jarque-Bera (JB):                0.214\n",
       "Skew:                           0.221   Prob(JB):                        0.898\n",
       "Kurtosis:                       3.102   Cond. No.                     1.27e+04\n",
       "==============================================================================\n",
       "\n",
       "Warnings:\n",
       "[1] Standard Errors assume that the covariance matrix of the errors is correctly specified.\n",
       "[2] The condition number is large, 1.27e+04. This might indicate that there are\n",
       "strong multicollinearity or other numerical problems.\n",
       "\"\"\""
      ]
     },
     "execution_count": 483,
     "metadata": {},
     "output_type": "execute_result"
    }
   ],
   "source": [
    "#Looking At YouTube Spend Effects Free Trial\n",
    "import statsmodels.formula.api as smf\n",
    "lm_youtube = smf.ols(formula='PSYouTube ~ YouTubeSpend', data=youtube_nonnull).fit()\n",
    "#print the full summary\n",
    "lm_youtube.summary()"
   ]
  },
  {
   "cell_type": "code",
   "execution_count": 484,
   "metadata": {
    "collapsed": false
   },
   "outputs": [
    {
     "data": {
      "text/plain": [
       "array([ 247.48423617])"
      ]
     },
     "execution_count": 484,
     "metadata": {},
     "output_type": "execute_result"
    }
   ],
   "source": [
    "# Predict Pay Subs Given Different Spend Amount\n",
    "X_new_psyoutube = pd.DataFrame({'YouTubeSpend': [50000]})\n",
    "X_new_psyoutube.head()\n",
    "lm_youtube.predict(X_new_psyoutube)"
   ]
  },
  {
   "cell_type": "markdown",
   "metadata": {
    "collapsed": true
   },
   "source": [
    "## Media Mix"
   ]
  },
  {
   "cell_type": "code",
   "execution_count": 503,
   "metadata": {
    "collapsed": false
   },
   "outputs": [
    {
     "name": "stdout",
     "output_type": "stream",
     "text": [
      "2910.81175186\n",
      "1556.59560818\n",
      "1574.08244969\n",
      "1605.85321905\n",
      "1387.1142665\n"
     ]
    }
   ],
   "source": [
    "#X_new_psadwords = pd.DataFrame({'AdWordsSpend': [50000]})\n",
    "#X_new_psadwords.head()\n",
    "#lm_adwords.predict(X_new_psadwords)\n",
    "\n",
    "\n",
    "def ps_total_prediction(input_spend, lm_adwords, lm_facebook, lm_snapchat, lm_instagram, lm_youtube):\n",
    "    X_new_adwords = pd.DataFrame({'AdWordsSpend': [input_spend[0]]})\n",
    "    ps_adwords = lm_adwords.predict(X_new_adwords)\n",
    "    X_new_facebook = pd.DataFrame({'FacebookSpend': [input_spend[1]]})\n",
    "    ps_facebook = lm_facebook.predict(X_new_facebook)\n",
    "    X_new_snapchat = pd.DataFrame({'SnapchatSpend': [input_spend[2]]})\n",
    "    ps_snapchat = lm_snapchat.predict(X_new_snapchat)\n",
    "    X_new_snapchat = pd.DataFrame({'InstagramSpend': [input_spend[3]]})\n",
    "    ps_instagram = lm_instagram.predict(X_new_snapchat)\n",
    "    X_new_instagram = pd.DataFrame({'YouTubeSpend': [input_spend[4]]})\n",
    "    ps_youtube = lm_youtube.predict(X_new_instagram)\n",
    "    \n",
    "    ps_total = ps_adwords + ps_facebook + ps_snapchat + ps_instagram + ps_youtube\n",
    "    return ps_total[0]\n",
    "\n",
    "# order is adwords, facebook, snapchat, instagram, youtube\n",
    "input_spend_1 = (10000, 200000, 300000, 10000, 30000)\n",
    "ps_total = ps_total_prediction(input_spend_1, lm_adwords, lm_facebook, lm_snapchat, lm_instagram, lm_youtube)\n",
    "print ps_total\n",
    "\n",
    "input_spend_2 = (5000, 20000, 350000, 20000, 20000)\n",
    "ps_total = ps_total_prediction(input_spend_2, lm_adwords, lm_facebook, lm_snapchat, lm_instagram, lm_youtube)\n",
    "print ps_total\n",
    "\n",
    "input_spend_3 = (5000, 25000, 350000, 20000, 15000)\n",
    "ps_total = ps_total_prediction(input_spend_3, lm_adwords, lm_facebook, lm_snapchat, lm_instagram, lm_youtube)\n",
    "print ps_total\n",
    "\n",
    "input_spend_4 = (5000, 10000, 400000, 15000, 30000)\n",
    "ps_total = ps_total_prediction(input_spend_4, lm_adwords, lm_facebook, lm_snapchat, lm_instagram, lm_youtube)\n",
    "print ps_total\n",
    "\n",
    "input_spend_5 = (3000, 22000, 250000, 15000, 35000)\n",
    "ps_total = ps_total_prediction(input_spend_5, lm_adwords, lm_facebook, lm_snapchat, lm_instagram, lm_youtube)\n",
    "print ps_total"
   ]
  },
  {
   "cell_type": "markdown",
   "metadata": {},
   "source": [
    "## All Channels"
   ]
  },
  {
   "cell_type": "code",
   "execution_count": 490,
   "metadata": {
    "collapsed": false
   },
   "outputs": [
    {
     "name": "stdout",
     "output_type": "stream",
     "text": [
      "                FTAdWords  PSAdWords  AdWordsSpend  FTFacebook  PSFacebook  \\\n",
      "FTAdWords        1.000000   0.978586      0.491911    0.401259    0.318441   \n",
      "PSAdWords        0.978586   1.000000      0.481064    0.393969    0.315367   \n",
      "AdWordsSpend     0.491911   0.481064      1.000000    0.088797    0.184539   \n",
      "FTFacebook       0.401259   0.393969      0.088797    1.000000    0.940407   \n",
      "PSFacebook       0.318441   0.315367      0.184539    0.940407    1.000000   \n",
      "FacebookSpend    0.523011   0.566052      0.517413    0.727049    0.765493   \n",
      "FTInstagram      0.350563   0.372192     -0.035464    0.768772    0.616404   \n",
      "PSInstagram      0.360466   0.381805     -0.019217    0.793085    0.657216   \n",
      "InstagramSpend   0.593166   0.666441      0.277419    0.718022    0.596227   \n",
      "FTSnapchat      -0.144161  -0.161339     -0.492440    0.214367    0.191594   \n",
      "PSSnapchat      -0.162221  -0.153127     -0.456397    0.232831    0.249914   \n",
      "SnapchatSpend    0.283590   0.308866      0.277605    0.153507    0.095519   \n",
      "FTYouTube       -0.020766  -0.032203     -0.358047    0.100554    0.089174   \n",
      "PSYouTube       -0.054595  -0.053380     -0.330005    0.078071    0.101672   \n",
      "YouTubeSpend    -0.115340  -0.138296     -0.088727    0.101083    0.025694   \n",
      "\n",
      "                FacebookSpend  FTInstagram  PSInstagram  InstagramSpend  \\\n",
      "FTAdWords            0.523011     0.350563     0.360466        0.593166   \n",
      "PSAdWords            0.566052     0.372192     0.381805        0.666441   \n",
      "AdWordsSpend         0.517413    -0.035464    -0.019217        0.277419   \n",
      "FTFacebook           0.727049     0.768772     0.793085        0.718022   \n",
      "PSFacebook           0.765493     0.616404     0.657216        0.596227   \n",
      "FacebookSpend        1.000000     0.345793     0.370659        0.669629   \n",
      "FTInstagram          0.345793     1.000000     0.996770        0.807069   \n",
      "PSInstagram          0.370659     0.996770     1.000000        0.820835   \n",
      "InstagramSpend       0.669629     0.807069     0.820835        1.000000   \n",
      "FTSnapchat          -0.253278     0.248177     0.270847        0.015207   \n",
      "PSSnapchat          -0.158730     0.247412     0.279821        0.078655   \n",
      "SnapchatSpend        0.175542     0.248270     0.268334        0.383199   \n",
      "FTYouTube           -0.324539    -0.010823     0.008391       -0.302345   \n",
      "PSYouTube           -0.284734    -0.067722    -0.051170       -0.308424   \n",
      "YouTubeSpend        -0.329865     0.040552     0.052223       -0.173041   \n",
      "\n",
      "                FTSnapchat  PSSnapchat  SnapchatSpend  FTYouTube  PSYouTube  \\\n",
      "FTAdWords        -0.144161   -0.162221       0.283590  -0.020766  -0.054595   \n",
      "PSAdWords        -0.161339   -0.153127       0.308866  -0.032203  -0.053380   \n",
      "AdWordsSpend     -0.492440   -0.456397       0.277605  -0.358047  -0.330005   \n",
      "FTFacebook        0.214367    0.232831       0.153507   0.100554   0.078071   \n",
      "PSFacebook        0.191594    0.249914       0.095519   0.089174   0.101672   \n",
      "FacebookSpend    -0.253278   -0.158730       0.175542  -0.324539  -0.284734   \n",
      "FTInstagram       0.248177    0.247412       0.248270  -0.010823  -0.067722   \n",
      "PSInstagram       0.270847    0.279821       0.268334   0.008391  -0.051170   \n",
      "InstagramSpend    0.015207    0.078655       0.383199  -0.302345  -0.308424   \n",
      "FTSnapchat        1.000000    0.936831       0.561145   0.367417   0.313440   \n",
      "PSSnapchat        0.936831    1.000000       0.571216   0.361247   0.324006   \n",
      "SnapchatSpend     0.561145    0.571216       1.000000   0.091758   0.054998   \n",
      "FTYouTube         0.367417    0.361247       0.091758   1.000000   0.990165   \n",
      "PSYouTube         0.313440    0.324006       0.054998   0.990165   1.000000   \n",
      "YouTubeSpend      0.503341    0.557097       0.415558   0.742493   0.675690   \n",
      "\n",
      "                YouTubeSpend  \n",
      "FTAdWords          -0.115340  \n",
      "PSAdWords          -0.138296  \n",
      "AdWordsSpend       -0.088727  \n",
      "FTFacebook          0.101083  \n",
      "PSFacebook          0.025694  \n",
      "FacebookSpend      -0.329865  \n",
      "FTInstagram         0.040552  \n",
      "PSInstagram         0.052223  \n",
      "InstagramSpend     -0.173041  \n",
      "FTSnapchat          0.503341  \n",
      "PSSnapchat          0.557097  \n",
      "SnapchatSpend       0.415558  \n",
      "FTYouTube           0.742493  \n",
      "PSYouTube           0.675690  \n",
      "YouTubeSpend        1.000000  \n",
      "Axes(0.125,0.125;0.62x0.755)\n"
     ]
    },
    {
     "data": {
      "image/png": "[encoded data removed]",
      "text/plain": [
       "<matplotlib.figure.Figure at 0x11f880b10>"
      ]
     },
     "metadata": {},
     "output_type": "display_data"
    }
   ],
   "source": [
    "channel_data = data.ix[:, ['FTAdWords', 'PSAdWords','AdWordsSpend','FTFacebook', 'PSFacebook','FacebookSpend', 'FTInstagram', 'PSInstagram', 'InstagramSpend','FTSnapchat', 'PSSnapchat','SnapchatSpend','FTYouTube', 'PSYouTube','YouTubeSpend','Week']]\n",
    "\n",
    "cmap = sns.diverging_palette(220, 10, as_cmap=True)\n",
    "\n",
    "correlations = channel_data[['FTAdWords', 'PSAdWords','AdWordsSpend','FTFacebook', 'PSFacebook', 'FacebookSpend','FTInstagram', 'PSInstagram', 'InstagramSpend','FTSnapchat', 'PSSnapchat','SnapchatSpend','FTYouTube', 'PSYouTube','YouTubeSpend']].corr()\n",
    "print correlations\n",
    "print sns.heatmap(correlations, cmap=cmap)"
   ]
  },
  {
   "cell_type": "code",
   "execution_count": null,
   "metadata": {
    "collapsed": true
   },
   "outputs": [],
   "source": []
  },
  {
   "cell_type": "code",
   "execution_count": null,
   "metadata": {
    "collapsed": true
   },
   "outputs": [],
   "source": []
  }
 ],
 "metadata": {
  "kernelspec": {
   "display_name": "Python 2",
   "language": "python",
   "name": "python2"
  },
  "language_info": {
   "codemirror_mode": {
    "name": "ipython",
    "version": 2
   },
   "file_extension": ".py",
   "mimetype": "text/x-python",
   "name": "python",
   "nbconvert_exporter": "python",
   "pygments_lexer": "ipython2",
   "version": "2.7.13"
  }
 },
 "nbformat": 4,
 "nbformat_minor": 0
}
